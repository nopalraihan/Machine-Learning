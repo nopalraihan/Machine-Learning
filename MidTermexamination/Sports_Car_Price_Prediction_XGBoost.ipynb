{
  "cells": [
    {
      "cell_type": "markdown",
      "id": "064aeafe",
      "metadata": {
        "_cell_guid": "b1076dfc-b9ad-4769-8c92-a6c4dae69d19",
        "_uuid": "8f2839f25d086af736a60e9eeb907d3b93b6e0e5",
        "papermill": {
          "duration": 0.012402,
          "end_time": "2023-03-12T16:09:34.669294",
          "exception": false,
          "start_time": "2023-03-12T16:09:34.656892",
          "status": "completed"
        },
        "tags": [],
        "id": "064aeafe"
      },
      "source": [
        "# *Mid - Term Examination Machine Learning* : Sport Car Price Prediction Using XGBOOST Model\n",
        "Dataset ini berisi informasi mengenai harga berbagai mobil sport dari berbagai produsen. Kumpulan data tersebut mencakup merek dan model mobil, tahun produksi, ukuran mesin, tenaga kuda, torsi, waktu 0-60 MPH, dan harga dalam USD. Kumpulan data ini berguna untuk menganalisis harga berbagai mobil sport dan mengidentifikasi tren di pasar.\n",
        "\n",
        "**Columns**\n",
        "1. Merek Mobil: Merek mobil sport yang mewakili merek atau perusahaan yang memproduksi mobil tersebut. Contoh merek mobil dalam kumpulan data ini antara lain Porsche, Lamborghini, Ferrari, Audi, dan McLaren.\n",
        "2. Model Mobil: Model mobil sport, yang mewakili versi atau varian tertentu dari mobil yang diproduksi oleh pabrikan. Contoh model mobil dalam dataset ini antara lain 911, Huracan, 488 GTB, R8, 720S, M8, AMG GT, Corvette, Mustang Shelby GT500, dan GT-R Nismo.\n",
        "3. Tahun: Tahun produksi mobil sport, yang menunjukkan tahun model saat mobil tersebut pertama kali diperkenalkan atau tersedia untuk dibeli.\n",
        "4. Ukuran Mesin (L): Ukuran mesin mobil sport dalam liter, yang mewakili volume silinder mesin. Ukuran mesin yang lebih besar biasanya menunjukkan tenaga dan kinerja yang lebih tinggi. Ukuran mesin dalam kumpulan data ini berkisar dari 2,0L hingga 8,0L, dan beberapa mobil menggunakan motor listrik sebagai gantinya.\n",
        "5. Tenaga Kuda: Tenaga kuda mobil sport, yang mewakili keluaran tenaga mesin mobil. Tenaga kuda yang lebih tinggi biasanya menunjukkan akselerasi yang lebih cepat dan kecepatan tertinggi yang lebih tinggi. Nilai horsepower dalam kumpulan data ini berkisar antara 300 hingga 1479.\n",
        "6. Torsi (lb-ft): Torsi mobil sport dalam pound-feet, yang mewakili gaya rotasi yang dihasilkan oleh mesin. Nilai torsi yang lebih tinggi biasanya menunjukkan akselerasi yang lebih kuat dan penanganan yang lebih baik. Nilai torsi dalam kumpulan data ini berkisar antara 270 hingga 1180.\n",
        "7. 0-60 MPH Time (detik): Waktu yang dibutuhkan mobil sport untuk berakselerasi dari 0 hingga 60 mil per jam, yang merupakan ukuran umum akselerasi dan performa. Waktu 0-60 MPH yang lebih rendah biasanya menunjukkan akselerasi yang lebih cepat dan kinerja yang lebih baik. Waktu 0-60 MPH dalam kumpulan data ini berkisar antara 1,85 hingga 5,3 detik.\n",
        "8. Harga (dalam USD): Harga mobil sport dalam dolar AS, yang mewakili biaya pembelian mobil. Harga dalam kumpulan data ini berkisar dari $25.000 hingga $3.000.000."
      ]
    },
    {
      "cell_type": "code",
      "source": [
        "# Mid-Term Examination Machine Learning\n",
        "# Name : Naufal raihan ramadhan\n",
        "# NIM  : 1103200157"
      ],
      "metadata": {
        "id": "4wpZMGqE7F97"
      },
      "id": "4wpZMGqE7F97",
      "execution_count": null,
      "outputs": []
    },
    {
      "cell_type": "code",
      "execution_count": null,
      "id": "50b9704b",
      "metadata": {
        "execution": {
          "iopub.execute_input": "2023-03-12T16:09:34.694522Z",
          "iopub.status.busy": "2023-03-12T16:09:34.693661Z",
          "iopub.status.idle": "2023-03-12T16:09:37.984770Z",
          "shell.execute_reply": "2023-03-12T16:09:37.983501Z"
        },
        "papermill": {
          "duration": 3.307024,
          "end_time": "2023-03-12T16:09:37.987902",
          "exception": false,
          "start_time": "2023-03-12T16:09:34.680878",
          "status": "completed"
        },
        "tags": [],
        "id": "50b9704b"
      },
      "outputs": [],
      "source": [
        "import pandas as pd\n",
        "import numpy as np\n",
        "import matplotlib.pyplot as plt\n",
        "import seaborn as sns\n",
        "import warnings\n",
        "warnings.filterwarnings('ignore')\n",
        "pd.set_option('display.max_columns',None)\n",
        "\n",
        "from sklearn.model_selection import train_test_split,GridSearchCV, RandomizedSearchCV\n",
        "from sklearn.preprocessing import MinMaxScaler,OneHotEncoder\n",
        "from sklearn.feature_selection import RFE\n",
        "from sklearn.linear_model import LinearRegression\n",
        "\n",
        "import statsmodels.api as sm\n",
        "from statsmodels.stats.outliers_influence import variance_inflation_factor\n",
        "\n",
        "from sklearn.preprocessing import StandardScaler,MinMaxScaler\n",
        "from sklearn.metrics import r2_score,mean_squared_error\n",
        "import xgboost as xgb\n",
        "\n",
        "import math"
      ]
    },
    {
      "cell_type": "code",
      "source": [
        "from google.colab import drive\n",
        "drive.mount ('/content/drive')"
      ],
      "metadata": {
        "colab": {
          "base_uri": "https://localhost:8080/"
        },
        "id": "WefilmmY0AmI",
        "outputId": "af3b0b02-7ef7-42ca-a721-730607da151c"
      },
      "id": "WefilmmY0AmI",
      "execution_count": null,
      "outputs": [
        {
          "output_type": "stream",
          "name": "stdout",
          "text": [
            "Mounted at /content/drive\n"
          ]
        }
      ]
    },
    {
      "cell_type": "code",
      "execution_count": null,
      "id": "0fd2bf83",
      "metadata": {
        "execution": {
          "iopub.execute_input": "2023-03-12T16:09:38.012232Z",
          "iopub.status.busy": "2023-03-12T16:09:38.011802Z",
          "iopub.status.idle": "2023-03-12T16:09:38.055459Z",
          "shell.execute_reply": "2023-03-12T16:09:38.054567Z"
        },
        "papermill": {
          "duration": 0.058615,
          "end_time": "2023-03-12T16:09:38.057978",
          "exception": false,
          "start_time": "2023-03-12T16:09:37.999363",
          "status": "completed"
        },
        "tags": [],
        "colab": {
          "base_uri": "https://localhost:8080/",
          "height": 223
        },
        "id": "0fd2bf83",
        "outputId": "bf68581c-c002-4b19-ea16-2f1531c9b5a2"
      },
      "outputs": [
        {
          "output_type": "execute_result",
          "data": {
            "text/plain": [
              "      Car Make Car Model  Year Engine Size (L) Horsepower Torque (lb-ft)  \\\n",
              "0      Porsche       911  2022               3        379            331   \n",
              "1  Lamborghini   Huracan  2021             5.2        630            443   \n",
              "2      Ferrari   488 GTB  2022             3.9        661            561   \n",
              "3         Audi        R8  2022             5.2        562            406   \n",
              "4      McLaren      720S  2021               4        710            568   \n",
              "\n",
              "  0-60 MPH Time (seconds) Price (in USD)  \n",
              "0                       4        101,200  \n",
              "1                     2.8        274,390  \n",
              "2                       3        333,750  \n",
              "3                     3.2        142,700  \n",
              "4                     2.7        298,000  "
            ],
            "text/html": [
              "\n",
              "  <div id=\"df-9eaea67c-8df2-4444-bcc3-9e74117e2c9c\" class=\"colab-df-container\">\n",
              "    <div>\n",
              "<style scoped>\n",
              "    .dataframe tbody tr th:only-of-type {\n",
              "        vertical-align: middle;\n",
              "    }\n",
              "\n",
              "    .dataframe tbody tr th {\n",
              "        vertical-align: top;\n",
              "    }\n",
              "\n",
              "    .dataframe thead th {\n",
              "        text-align: right;\n",
              "    }\n",
              "</style>\n",
              "<table border=\"1\" class=\"dataframe\">\n",
              "  <thead>\n",
              "    <tr style=\"text-align: right;\">\n",
              "      <th></th>\n",
              "      <th>Car Make</th>\n",
              "      <th>Car Model</th>\n",
              "      <th>Year</th>\n",
              "      <th>Engine Size (L)</th>\n",
              "      <th>Horsepower</th>\n",
              "      <th>Torque (lb-ft)</th>\n",
              "      <th>0-60 MPH Time (seconds)</th>\n",
              "      <th>Price (in USD)</th>\n",
              "    </tr>\n",
              "  </thead>\n",
              "  <tbody>\n",
              "    <tr>\n",
              "      <th>0</th>\n",
              "      <td>Porsche</td>\n",
              "      <td>911</td>\n",
              "      <td>2022</td>\n",
              "      <td>3</td>\n",
              "      <td>379</td>\n",
              "      <td>331</td>\n",
              "      <td>4</td>\n",
              "      <td>101,200</td>\n",
              "    </tr>\n",
              "    <tr>\n",
              "      <th>1</th>\n",
              "      <td>Lamborghini</td>\n",
              "      <td>Huracan</td>\n",
              "      <td>2021</td>\n",
              "      <td>5.2</td>\n",
              "      <td>630</td>\n",
              "      <td>443</td>\n",
              "      <td>2.8</td>\n",
              "      <td>274,390</td>\n",
              "    </tr>\n",
              "    <tr>\n",
              "      <th>2</th>\n",
              "      <td>Ferrari</td>\n",
              "      <td>488 GTB</td>\n",
              "      <td>2022</td>\n",
              "      <td>3.9</td>\n",
              "      <td>661</td>\n",
              "      <td>561</td>\n",
              "      <td>3</td>\n",
              "      <td>333,750</td>\n",
              "    </tr>\n",
              "    <tr>\n",
              "      <th>3</th>\n",
              "      <td>Audi</td>\n",
              "      <td>R8</td>\n",
              "      <td>2022</td>\n",
              "      <td>5.2</td>\n",
              "      <td>562</td>\n",
              "      <td>406</td>\n",
              "      <td>3.2</td>\n",
              "      <td>142,700</td>\n",
              "    </tr>\n",
              "    <tr>\n",
              "      <th>4</th>\n",
              "      <td>McLaren</td>\n",
              "      <td>720S</td>\n",
              "      <td>2021</td>\n",
              "      <td>4</td>\n",
              "      <td>710</td>\n",
              "      <td>568</td>\n",
              "      <td>2.7</td>\n",
              "      <td>298,000</td>\n",
              "    </tr>\n",
              "  </tbody>\n",
              "</table>\n",
              "</div>\n",
              "    <div class=\"colab-df-buttons\">\n",
              "\n",
              "  <div class=\"colab-df-container\">\n",
              "    <button class=\"colab-df-convert\" onclick=\"convertToInteractive('df-9eaea67c-8df2-4444-bcc3-9e74117e2c9c')\"\n",
              "            title=\"Convert this dataframe to an interactive table.\"\n",
              "            style=\"display:none;\">\n",
              "\n",
              "  <svg xmlns=\"http://www.w3.org/2000/svg\" height=\"24px\" viewBox=\"0 -960 960 960\">\n",
              "    <path d=\"M120-120v-720h720v720H120Zm60-500h600v-160H180v160Zm220 220h160v-160H400v160Zm0 220h160v-160H400v160ZM180-400h160v-160H180v160Zm440 0h160v-160H620v160ZM180-180h160v-160H180v160Zm440 0h160v-160H620v160Z\"/>\n",
              "  </svg>\n",
              "    </button>\n",
              "\n",
              "  <style>\n",
              "    .colab-df-container {\n",
              "      display:flex;\n",
              "      gap: 12px;\n",
              "    }\n",
              "\n",
              "    .colab-df-convert {\n",
              "      background-color: #E8F0FE;\n",
              "      border: none;\n",
              "      border-radius: 50%;\n",
              "      cursor: pointer;\n",
              "      display: none;\n",
              "      fill: #1967D2;\n",
              "      height: 32px;\n",
              "      padding: 0 0 0 0;\n",
              "      width: 32px;\n",
              "    }\n",
              "\n",
              "    .colab-df-convert:hover {\n",
              "      background-color: #E2EBFA;\n",
              "      box-shadow: 0px 1px 2px rgba(60, 64, 67, 0.3), 0px 1px 3px 1px rgba(60, 64, 67, 0.15);\n",
              "      fill: #174EA6;\n",
              "    }\n",
              "\n",
              "    .colab-df-buttons div {\n",
              "      margin-bottom: 4px;\n",
              "    }\n",
              "\n",
              "    [theme=dark] .colab-df-convert {\n",
              "      background-color: #3B4455;\n",
              "      fill: #D2E3FC;\n",
              "    }\n",
              "\n",
              "    [theme=dark] .colab-df-convert:hover {\n",
              "      background-color: #434B5C;\n",
              "      box-shadow: 0px 1px 3px 1px rgba(0, 0, 0, 0.15);\n",
              "      filter: drop-shadow(0px 1px 2px rgba(0, 0, 0, 0.3));\n",
              "      fill: #FFFFFF;\n",
              "    }\n",
              "  </style>\n",
              "\n",
              "    <script>\n",
              "      const buttonEl =\n",
              "        document.querySelector('#df-9eaea67c-8df2-4444-bcc3-9e74117e2c9c button.colab-df-convert');\n",
              "      buttonEl.style.display =\n",
              "        google.colab.kernel.accessAllowed ? 'block' : 'none';\n",
              "\n",
              "      async function convertToInteractive(key) {\n",
              "        const element = document.querySelector('#df-9eaea67c-8df2-4444-bcc3-9e74117e2c9c');\n",
              "        const dataTable =\n",
              "          await google.colab.kernel.invokeFunction('convertToInteractive',\n",
              "                                                    [key], {});\n",
              "        if (!dataTable) return;\n",
              "\n",
              "        const docLinkHtml = 'Like what you see? Visit the ' +\n",
              "          '<a target=\"_blank\" href=https://colab.research.google.com/notebooks/data_table.ipynb>data table notebook</a>'\n",
              "          + ' to learn more about interactive tables.';\n",
              "        element.innerHTML = '';\n",
              "        dataTable['output_type'] = 'display_data';\n",
              "        await google.colab.output.renderOutput(dataTable, element);\n",
              "        const docLink = document.createElement('div');\n",
              "        docLink.innerHTML = docLinkHtml;\n",
              "        element.appendChild(docLink);\n",
              "      }\n",
              "    </script>\n",
              "  </div>\n",
              "\n",
              "\n",
              "<div id=\"df-b47d7dc4-1a66-41a2-89bb-b85a269fee1a\">\n",
              "  <button class=\"colab-df-quickchart\" onclick=\"quickchart('df-b47d7dc4-1a66-41a2-89bb-b85a269fee1a')\"\n",
              "            title=\"Suggest charts\"\n",
              "            style=\"display:none;\">\n",
              "\n",
              "<svg xmlns=\"http://www.w3.org/2000/svg\" height=\"24px\"viewBox=\"0 0 24 24\"\n",
              "     width=\"24px\">\n",
              "    <g>\n",
              "        <path d=\"M19 3H5c-1.1 0-2 .9-2 2v14c0 1.1.9 2 2 2h14c1.1 0 2-.9 2-2V5c0-1.1-.9-2-2-2zM9 17H7v-7h2v7zm4 0h-2V7h2v10zm4 0h-2v-4h2v4z\"/>\n",
              "    </g>\n",
              "</svg>\n",
              "  </button>\n",
              "\n",
              "<style>\n",
              "  .colab-df-quickchart {\n",
              "      --bg-color: #E8F0FE;\n",
              "      --fill-color: #1967D2;\n",
              "      --hover-bg-color: #E2EBFA;\n",
              "      --hover-fill-color: #174EA6;\n",
              "      --disabled-fill-color: #AAA;\n",
              "      --disabled-bg-color: #DDD;\n",
              "  }\n",
              "\n",
              "  [theme=dark] .colab-df-quickchart {\n",
              "      --bg-color: #3B4455;\n",
              "      --fill-color: #D2E3FC;\n",
              "      --hover-bg-color: #434B5C;\n",
              "      --hover-fill-color: #FFFFFF;\n",
              "      --disabled-bg-color: #3B4455;\n",
              "      --disabled-fill-color: #666;\n",
              "  }\n",
              "\n",
              "  .colab-df-quickchart {\n",
              "    background-color: var(--bg-color);\n",
              "    border: none;\n",
              "    border-radius: 50%;\n",
              "    cursor: pointer;\n",
              "    display: none;\n",
              "    fill: var(--fill-color);\n",
              "    height: 32px;\n",
              "    padding: 0;\n",
              "    width: 32px;\n",
              "  }\n",
              "\n",
              "  .colab-df-quickchart:hover {\n",
              "    background-color: var(--hover-bg-color);\n",
              "    box-shadow: 0 1px 2px rgba(60, 64, 67, 0.3), 0 1px 3px 1px rgba(60, 64, 67, 0.15);\n",
              "    fill: var(--button-hover-fill-color);\n",
              "  }\n",
              "\n",
              "  .colab-df-quickchart-complete:disabled,\n",
              "  .colab-df-quickchart-complete:disabled:hover {\n",
              "    background-color: var(--disabled-bg-color);\n",
              "    fill: var(--disabled-fill-color);\n",
              "    box-shadow: none;\n",
              "  }\n",
              "\n",
              "  .colab-df-spinner {\n",
              "    border: 2px solid var(--fill-color);\n",
              "    border-color: transparent;\n",
              "    border-bottom-color: var(--fill-color);\n",
              "    animation:\n",
              "      spin 1s steps(1) infinite;\n",
              "  }\n",
              "\n",
              "  @keyframes spin {\n",
              "    0% {\n",
              "      border-color: transparent;\n",
              "      border-bottom-color: var(--fill-color);\n",
              "      border-left-color: var(--fill-color);\n",
              "    }\n",
              "    20% {\n",
              "      border-color: transparent;\n",
              "      border-left-color: var(--fill-color);\n",
              "      border-top-color: var(--fill-color);\n",
              "    }\n",
              "    30% {\n",
              "      border-color: transparent;\n",
              "      border-left-color: var(--fill-color);\n",
              "      border-top-color: var(--fill-color);\n",
              "      border-right-color: var(--fill-color);\n",
              "    }\n",
              "    40% {\n",
              "      border-color: transparent;\n",
              "      border-right-color: var(--fill-color);\n",
              "      border-top-color: var(--fill-color);\n",
              "    }\n",
              "    60% {\n",
              "      border-color: transparent;\n",
              "      border-right-color: var(--fill-color);\n",
              "    }\n",
              "    80% {\n",
              "      border-color: transparent;\n",
              "      border-right-color: var(--fill-color);\n",
              "      border-bottom-color: var(--fill-color);\n",
              "    }\n",
              "    90% {\n",
              "      border-color: transparent;\n",
              "      border-bottom-color: var(--fill-color);\n",
              "    }\n",
              "  }\n",
              "</style>\n",
              "\n",
              "  <script>\n",
              "    async function quickchart(key) {\n",
              "      const quickchartButtonEl =\n",
              "        document.querySelector('#' + key + ' button');\n",
              "      quickchartButtonEl.disabled = true;  // To prevent multiple clicks.\n",
              "      quickchartButtonEl.classList.add('colab-df-spinner');\n",
              "      try {\n",
              "        const charts = await google.colab.kernel.invokeFunction(\n",
              "            'suggestCharts', [key], {});\n",
              "      } catch (error) {\n",
              "        console.error('Error during call to suggestCharts:', error);\n",
              "      }\n",
              "      quickchartButtonEl.classList.remove('colab-df-spinner');\n",
              "      quickchartButtonEl.classList.add('colab-df-quickchart-complete');\n",
              "    }\n",
              "    (() => {\n",
              "      let quickchartButtonEl =\n",
              "        document.querySelector('#df-b47d7dc4-1a66-41a2-89bb-b85a269fee1a button');\n",
              "      quickchartButtonEl.style.display =\n",
              "        google.colab.kernel.accessAllowed ? 'block' : 'none';\n",
              "    })();\n",
              "  </script>\n",
              "</div>\n",
              "    </div>\n",
              "  </div>\n"
            ]
          },
          "metadata": {},
          "execution_count": 3
        }
      ],
      "source": [
        "df = pd.read_csv('/content/drive/MyDrive/dataset/Sport car price.csv')\n",
        "df.head()"
      ]
    },
    {
      "cell_type": "code",
      "execution_count": null,
      "id": "1b6a9d76",
      "metadata": {
        "execution": {
          "iopub.execute_input": "2023-03-12T16:09:38.083809Z",
          "iopub.status.busy": "2023-03-12T16:09:38.083370Z",
          "iopub.status.idle": "2023-03-12T16:09:38.090810Z",
          "shell.execute_reply": "2023-03-12T16:09:38.089726Z"
        },
        "papermill": {
          "duration": 0.022356,
          "end_time": "2023-03-12T16:09:38.092972",
          "exception": false,
          "start_time": "2023-03-12T16:09:38.070616",
          "status": "completed"
        },
        "tags": [],
        "colab": {
          "base_uri": "https://localhost:8080/"
        },
        "id": "1b6a9d76",
        "outputId": "4dd7605d-074f-46e5-f78f-2642841167c4"
      },
      "outputs": [
        {
          "output_type": "execute_result",
          "data": {
            "text/plain": [
              "(1007, 8)"
            ]
          },
          "metadata": {},
          "execution_count": 4
        }
      ],
      "source": [
        "df.shape"
      ]
    },
    {
      "cell_type": "code",
      "execution_count": null,
      "id": "df3dcdee",
      "metadata": {
        "execution": {
          "iopub.execute_input": "2023-03-12T16:09:38.118868Z",
          "iopub.status.busy": "2023-03-12T16:09:38.118051Z",
          "iopub.status.idle": "2023-03-12T16:09:38.143611Z",
          "shell.execute_reply": "2023-03-12T16:09:38.142069Z"
        },
        "papermill": {
          "duration": 0.041737,
          "end_time": "2023-03-12T16:09:38.146476",
          "exception": false,
          "start_time": "2023-03-12T16:09:38.104739",
          "status": "completed"
        },
        "tags": [],
        "colab": {
          "base_uri": "https://localhost:8080/"
        },
        "id": "df3dcdee",
        "outputId": "86693782-82e7-4247-d095-f332c48f2148"
      },
      "outputs": [
        {
          "output_type": "stream",
          "name": "stdout",
          "text": [
            "<class 'pandas.core.frame.DataFrame'>\n",
            "RangeIndex: 1007 entries, 0 to 1006\n",
            "Data columns (total 8 columns):\n",
            " #   Column                   Non-Null Count  Dtype \n",
            "---  ------                   --------------  ----- \n",
            " 0   Car Make                 1007 non-null   object\n",
            " 1   Car Model                1007 non-null   object\n",
            " 2   Year                     1007 non-null   int64 \n",
            " 3   Engine Size (L)          997 non-null    object\n",
            " 4   Horsepower               1007 non-null   object\n",
            " 5   Torque (lb-ft)           1004 non-null   object\n",
            " 6   0-60 MPH Time (seconds)  1007 non-null   object\n",
            " 7   Price (in USD)           1007 non-null   object\n",
            "dtypes: int64(1), object(7)\n",
            "memory usage: 63.1+ KB\n"
          ]
        }
      ],
      "source": [
        "df.info()"
      ]
    },
    {
      "cell_type": "code",
      "execution_count": null,
      "id": "d429b267",
      "metadata": {
        "execution": {
          "iopub.execute_input": "2023-03-12T16:09:38.172053Z",
          "iopub.status.busy": "2023-03-12T16:09:38.171327Z",
          "iopub.status.idle": "2023-03-12T16:09:38.187602Z",
          "shell.execute_reply": "2023-03-12T16:09:38.186351Z"
        },
        "papermill": {
          "duration": 0.03217,
          "end_time": "2023-03-12T16:09:38.190240",
          "exception": false,
          "start_time": "2023-03-12T16:09:38.158070",
          "status": "completed"
        },
        "tags": [],
        "colab": {
          "base_uri": "https://localhost:8080/",
          "height": 300
        },
        "id": "d429b267",
        "outputId": "91536fc9-57f9-43cf-a0b7-2f1316aaf96e"
      },
      "outputs": [
        {
          "output_type": "execute_result",
          "data": {
            "text/plain": [
              "                         Null Values  Percentage Null Values\n",
              "Car Make                           0                0.000000\n",
              "Car Model                          0                0.000000\n",
              "Year                               0                0.000000\n",
              "Engine Size (L)                   10                0.993049\n",
              "Horsepower                         0                0.000000\n",
              "Torque (lb-ft)                     3                0.297915\n",
              "0-60 MPH Time (seconds)            0                0.000000\n",
              "Price (in USD)                     0                0.000000"
            ],
            "text/html": [
              "\n",
              "  <div id=\"df-b7276df5-044a-4aa0-b42c-02fd1ca88107\" class=\"colab-df-container\">\n",
              "    <div>\n",
              "<style scoped>\n",
              "    .dataframe tbody tr th:only-of-type {\n",
              "        vertical-align: middle;\n",
              "    }\n",
              "\n",
              "    .dataframe tbody tr th {\n",
              "        vertical-align: top;\n",
              "    }\n",
              "\n",
              "    .dataframe thead th {\n",
              "        text-align: right;\n",
              "    }\n",
              "</style>\n",
              "<table border=\"1\" class=\"dataframe\">\n",
              "  <thead>\n",
              "    <tr style=\"text-align: right;\">\n",
              "      <th></th>\n",
              "      <th>Null Values</th>\n",
              "      <th>Percentage Null Values</th>\n",
              "    </tr>\n",
              "  </thead>\n",
              "  <tbody>\n",
              "    <tr>\n",
              "      <th>Car Make</th>\n",
              "      <td>0</td>\n",
              "      <td>0.000000</td>\n",
              "    </tr>\n",
              "    <tr>\n",
              "      <th>Car Model</th>\n",
              "      <td>0</td>\n",
              "      <td>0.000000</td>\n",
              "    </tr>\n",
              "    <tr>\n",
              "      <th>Year</th>\n",
              "      <td>0</td>\n",
              "      <td>0.000000</td>\n",
              "    </tr>\n",
              "    <tr>\n",
              "      <th>Engine Size (L)</th>\n",
              "      <td>10</td>\n",
              "      <td>0.993049</td>\n",
              "    </tr>\n",
              "    <tr>\n",
              "      <th>Horsepower</th>\n",
              "      <td>0</td>\n",
              "      <td>0.000000</td>\n",
              "    </tr>\n",
              "    <tr>\n",
              "      <th>Torque (lb-ft)</th>\n",
              "      <td>3</td>\n",
              "      <td>0.297915</td>\n",
              "    </tr>\n",
              "    <tr>\n",
              "      <th>0-60 MPH Time (seconds)</th>\n",
              "      <td>0</td>\n",
              "      <td>0.000000</td>\n",
              "    </tr>\n",
              "    <tr>\n",
              "      <th>Price (in USD)</th>\n",
              "      <td>0</td>\n",
              "      <td>0.000000</td>\n",
              "    </tr>\n",
              "  </tbody>\n",
              "</table>\n",
              "</div>\n",
              "    <div class=\"colab-df-buttons\">\n",
              "\n",
              "  <div class=\"colab-df-container\">\n",
              "    <button class=\"colab-df-convert\" onclick=\"convertToInteractive('df-b7276df5-044a-4aa0-b42c-02fd1ca88107')\"\n",
              "            title=\"Convert this dataframe to an interactive table.\"\n",
              "            style=\"display:none;\">\n",
              "\n",
              "  <svg xmlns=\"http://www.w3.org/2000/svg\" height=\"24px\" viewBox=\"0 -960 960 960\">\n",
              "    <path d=\"M120-120v-720h720v720H120Zm60-500h600v-160H180v160Zm220 220h160v-160H400v160Zm0 220h160v-160H400v160ZM180-400h160v-160H180v160Zm440 0h160v-160H620v160ZM180-180h160v-160H180v160Zm440 0h160v-160H620v160Z\"/>\n",
              "  </svg>\n",
              "    </button>\n",
              "\n",
              "  <style>\n",
              "    .colab-df-container {\n",
              "      display:flex;\n",
              "      gap: 12px;\n",
              "    }\n",
              "\n",
              "    .colab-df-convert {\n",
              "      background-color: #E8F0FE;\n",
              "      border: none;\n",
              "      border-radius: 50%;\n",
              "      cursor: pointer;\n",
              "      display: none;\n",
              "      fill: #1967D2;\n",
              "      height: 32px;\n",
              "      padding: 0 0 0 0;\n",
              "      width: 32px;\n",
              "    }\n",
              "\n",
              "    .colab-df-convert:hover {\n",
              "      background-color: #E2EBFA;\n",
              "      box-shadow: 0px 1px 2px rgba(60, 64, 67, 0.3), 0px 1px 3px 1px rgba(60, 64, 67, 0.15);\n",
              "      fill: #174EA6;\n",
              "    }\n",
              "\n",
              "    .colab-df-buttons div {\n",
              "      margin-bottom: 4px;\n",
              "    }\n",
              "\n",
              "    [theme=dark] .colab-df-convert {\n",
              "      background-color: #3B4455;\n",
              "      fill: #D2E3FC;\n",
              "    }\n",
              "\n",
              "    [theme=dark] .colab-df-convert:hover {\n",
              "      background-color: #434B5C;\n",
              "      box-shadow: 0px 1px 3px 1px rgba(0, 0, 0, 0.15);\n",
              "      filter: drop-shadow(0px 1px 2px rgba(0, 0, 0, 0.3));\n",
              "      fill: #FFFFFF;\n",
              "    }\n",
              "  </style>\n",
              "\n",
              "    <script>\n",
              "      const buttonEl =\n",
              "        document.querySelector('#df-b7276df5-044a-4aa0-b42c-02fd1ca88107 button.colab-df-convert');\n",
              "      buttonEl.style.display =\n",
              "        google.colab.kernel.accessAllowed ? 'block' : 'none';\n",
              "\n",
              "      async function convertToInteractive(key) {\n",
              "        const element = document.querySelector('#df-b7276df5-044a-4aa0-b42c-02fd1ca88107');\n",
              "        const dataTable =\n",
              "          await google.colab.kernel.invokeFunction('convertToInteractive',\n",
              "                                                    [key], {});\n",
              "        if (!dataTable) return;\n",
              "\n",
              "        const docLinkHtml = 'Like what you see? Visit the ' +\n",
              "          '<a target=\"_blank\" href=https://colab.research.google.com/notebooks/data_table.ipynb>data table notebook</a>'\n",
              "          + ' to learn more about interactive tables.';\n",
              "        element.innerHTML = '';\n",
              "        dataTable['output_type'] = 'display_data';\n",
              "        await google.colab.output.renderOutput(dataTable, element);\n",
              "        const docLink = document.createElement('div');\n",
              "        docLink.innerHTML = docLinkHtml;\n",
              "        element.appendChild(docLink);\n",
              "      }\n",
              "    </script>\n",
              "  </div>\n",
              "\n",
              "\n",
              "<div id=\"df-0eb1ebc7-f4b3-4176-a763-160abe25b326\">\n",
              "  <button class=\"colab-df-quickchart\" onclick=\"quickchart('df-0eb1ebc7-f4b3-4176-a763-160abe25b326')\"\n",
              "            title=\"Suggest charts\"\n",
              "            style=\"display:none;\">\n",
              "\n",
              "<svg xmlns=\"http://www.w3.org/2000/svg\" height=\"24px\"viewBox=\"0 0 24 24\"\n",
              "     width=\"24px\">\n",
              "    <g>\n",
              "        <path d=\"M19 3H5c-1.1 0-2 .9-2 2v14c0 1.1.9 2 2 2h14c1.1 0 2-.9 2-2V5c0-1.1-.9-2-2-2zM9 17H7v-7h2v7zm4 0h-2V7h2v10zm4 0h-2v-4h2v4z\"/>\n",
              "    </g>\n",
              "</svg>\n",
              "  </button>\n",
              "\n",
              "<style>\n",
              "  .colab-df-quickchart {\n",
              "      --bg-color: #E8F0FE;\n",
              "      --fill-color: #1967D2;\n",
              "      --hover-bg-color: #E2EBFA;\n",
              "      --hover-fill-color: #174EA6;\n",
              "      --disabled-fill-color: #AAA;\n",
              "      --disabled-bg-color: #DDD;\n",
              "  }\n",
              "\n",
              "  [theme=dark] .colab-df-quickchart {\n",
              "      --bg-color: #3B4455;\n",
              "      --fill-color: #D2E3FC;\n",
              "      --hover-bg-color: #434B5C;\n",
              "      --hover-fill-color: #FFFFFF;\n",
              "      --disabled-bg-color: #3B4455;\n",
              "      --disabled-fill-color: #666;\n",
              "  }\n",
              "\n",
              "  .colab-df-quickchart {\n",
              "    background-color: var(--bg-color);\n",
              "    border: none;\n",
              "    border-radius: 50%;\n",
              "    cursor: pointer;\n",
              "    display: none;\n",
              "    fill: var(--fill-color);\n",
              "    height: 32px;\n",
              "    padding: 0;\n",
              "    width: 32px;\n",
              "  }\n",
              "\n",
              "  .colab-df-quickchart:hover {\n",
              "    background-color: var(--hover-bg-color);\n",
              "    box-shadow: 0 1px 2px rgba(60, 64, 67, 0.3), 0 1px 3px 1px rgba(60, 64, 67, 0.15);\n",
              "    fill: var(--button-hover-fill-color);\n",
              "  }\n",
              "\n",
              "  .colab-df-quickchart-complete:disabled,\n",
              "  .colab-df-quickchart-complete:disabled:hover {\n",
              "    background-color: var(--disabled-bg-color);\n",
              "    fill: var(--disabled-fill-color);\n",
              "    box-shadow: none;\n",
              "  }\n",
              "\n",
              "  .colab-df-spinner {\n",
              "    border: 2px solid var(--fill-color);\n",
              "    border-color: transparent;\n",
              "    border-bottom-color: var(--fill-color);\n",
              "    animation:\n",
              "      spin 1s steps(1) infinite;\n",
              "  }\n",
              "\n",
              "  @keyframes spin {\n",
              "    0% {\n",
              "      border-color: transparent;\n",
              "      border-bottom-color: var(--fill-color);\n",
              "      border-left-color: var(--fill-color);\n",
              "    }\n",
              "    20% {\n",
              "      border-color: transparent;\n",
              "      border-left-color: var(--fill-color);\n",
              "      border-top-color: var(--fill-color);\n",
              "    }\n",
              "    30% {\n",
              "      border-color: transparent;\n",
              "      border-left-color: var(--fill-color);\n",
              "      border-top-color: var(--fill-color);\n",
              "      border-right-color: var(--fill-color);\n",
              "    }\n",
              "    40% {\n",
              "      border-color: transparent;\n",
              "      border-right-color: var(--fill-color);\n",
              "      border-top-color: var(--fill-color);\n",
              "    }\n",
              "    60% {\n",
              "      border-color: transparent;\n",
              "      border-right-color: var(--fill-color);\n",
              "    }\n",
              "    80% {\n",
              "      border-color: transparent;\n",
              "      border-right-color: var(--fill-color);\n",
              "      border-bottom-color: var(--fill-color);\n",
              "    }\n",
              "    90% {\n",
              "      border-color: transparent;\n",
              "      border-bottom-color: var(--fill-color);\n",
              "    }\n",
              "  }\n",
              "</style>\n",
              "\n",
              "  <script>\n",
              "    async function quickchart(key) {\n",
              "      const quickchartButtonEl =\n",
              "        document.querySelector('#' + key + ' button');\n",
              "      quickchartButtonEl.disabled = true;  // To prevent multiple clicks.\n",
              "      quickchartButtonEl.classList.add('colab-df-spinner');\n",
              "      try {\n",
              "        const charts = await google.colab.kernel.invokeFunction(\n",
              "            'suggestCharts', [key], {});\n",
              "      } catch (error) {\n",
              "        console.error('Error during call to suggestCharts:', error);\n",
              "      }\n",
              "      quickchartButtonEl.classList.remove('colab-df-spinner');\n",
              "      quickchartButtonEl.classList.add('colab-df-quickchart-complete');\n",
              "    }\n",
              "    (() => {\n",
              "      let quickchartButtonEl =\n",
              "        document.querySelector('#df-0eb1ebc7-f4b3-4176-a763-160abe25b326 button');\n",
              "      quickchartButtonEl.style.display =\n",
              "        google.colab.kernel.accessAllowed ? 'block' : 'none';\n",
              "    })();\n",
              "  </script>\n",
              "</div>\n",
              "    </div>\n",
              "  </div>\n"
            ]
          },
          "metadata": {},
          "execution_count": 6
        }
      ],
      "source": [
        "# Checking the percentage of missing values across all the columns\n",
        "null = pd.DataFrame({'Null Values':df.isnull().sum(),'Percentage Null Values':df.isnull().sum()*100/len(df)})\n",
        "null"
      ]
    },
    {
      "cell_type": "markdown",
      "id": "f279cfc1",
      "metadata": {
        "papermill": {
          "duration": 0.011507,
          "end_time": "2023-03-12T16:09:38.252150",
          "exception": false,
          "start_time": "2023-03-12T16:09:38.240643",
          "status": "completed"
        },
        "tags": [],
        "id": "f279cfc1"
      },
      "source": [
        "# Data Preparing\n",
        "1. Untuk kolom 'Harga', kami hanya akan mengganti ',' dengan nol dan mengonversi tipe menjadi integer.\n",
        "Untuk kolom 'Ukuran Mesin (L)', pada data asli terdapat semua data kategorikal dan berisi data seperti 'Listrik' atau 'Motor Listrik', dll. Sulit untuk menganalisis dengan kolom yang berisi data numerik dan kategorikal . Jadi kita akan membuat kolom baru 'Ukuran Mesin Cat' dengan kategori 'Kecil', 'Sedang', 'Besar', 'Ekstra Besar', aturannya seperti di bawah ini:\n",
        "'Kecil' --> '0'-'2'\n",
        "'Sedang' --> '2'-'4'\n",
        "'Besar'--> '4'-'6'\n",
        "'Ekstra Besar'-->'6'-'8'\n",
        "dan jenis Ukuran Mesin lainnya, kita akan mengambil nilai yang sama pada kolom 'Ukuran Mesin (L)'\n",
        "\n",
        "Untuk kolom 'Horsepower', kami tidak akan mengganti ',' dan '+' dan mengonversi tipenya menjadi integer.\n",
        "Untuk kolom 'Torsi (lb-ft)', kami akan mengganti ',', '-' dan '+' dengan nol dan mengonversi tipenya menjadi integer.\n",
        "Untuk kolom 'Waktu 0-60 MPH (detik)', kami akan mengganti '< 1.9' dengan '1.0' dan mengonversi tipe menjadi float."
      ]
    },
    {
      "cell_type": "code",
      "execution_count": null,
      "id": "3996b9f5",
      "metadata": {
        "execution": {
          "iopub.execute_input": "2023-03-12T16:09:38.339719Z",
          "iopub.status.busy": "2023-03-12T16:09:38.339313Z",
          "iopub.status.idle": "2023-03-12T16:09:38.370489Z",
          "shell.execute_reply": "2023-03-12T16:09:38.368890Z"
        },
        "papermill": {
          "duration": 0.047523,
          "end_time": "2023-03-12T16:09:38.373309",
          "exception": false,
          "start_time": "2023-03-12T16:09:38.325786",
          "status": "completed"
        },
        "tags": [],
        "colab": {
          "base_uri": "https://localhost:8080/",
          "height": 355
        },
        "id": "3996b9f5",
        "outputId": "17a5d57d-3253-4077-cf5f-fcd308c19404"
      },
      "outputs": [
        {
          "output_type": "execute_result",
          "data": {
            "text/plain": [
              "         Car Make   Car Model    Horsepower  Torque (lb-ft)  \\\n",
              "count  994.000000  994.000000    994.000000      994.000000   \n",
              "mean    15.059356   87.463783    632.870221      554.883300   \n",
              "std      8.638627   48.064546    415.759566      437.401535   \n",
              "min      0.000000    0.000000    181.000000      151.000000   \n",
              "25%      8.000000   52.000000    454.000000      406.000000   \n",
              "50%     13.000000   86.000000    591.000000      509.000000   \n",
              "75%     22.000000  123.000000    671.000000      603.000000   \n",
              "max     37.000000  175.000000  10000.000000    10000.000000   \n",
              "\n",
              "       0-60 MPH Time (seconds)  Price (in USD)  Engine Size Cat     Car Age  \n",
              "count               994.000000    9.940000e+02       994.000000  994.000000  \n",
              "mean                  3.529547    3.755965e+05        12.730382    1.804829  \n",
              "std                   0.767991    7.307884e+05         2.375552    2.031508  \n",
              "min                   1.000000    2.500000e+04         0.000000    0.000000  \n",
              "25%                   2.900000    7.180000e+04        12.000000    1.000000  \n",
              "50%                   3.500000    1.346500e+05        14.000000    2.000000  \n",
              "75%                   4.000000    2.495000e+05        14.000000    2.000000  \n",
              "max                   6.500000    5.200000e+06        14.000000   58.000000  "
            ],
            "text/html": [
              "\n",
              "  <div id=\"df-6c760501-17dc-47c8-b354-dadbc0837804\" class=\"colab-df-container\">\n",
              "    <div>\n",
              "<style scoped>\n",
              "    .dataframe tbody tr th:only-of-type {\n",
              "        vertical-align: middle;\n",
              "    }\n",
              "\n",
              "    .dataframe tbody tr th {\n",
              "        vertical-align: top;\n",
              "    }\n",
              "\n",
              "    .dataframe thead th {\n",
              "        text-align: right;\n",
              "    }\n",
              "</style>\n",
              "<table border=\"1\" class=\"dataframe\">\n",
              "  <thead>\n",
              "    <tr style=\"text-align: right;\">\n",
              "      <th></th>\n",
              "      <th>Car Make</th>\n",
              "      <th>Car Model</th>\n",
              "      <th>Horsepower</th>\n",
              "      <th>Torque (lb-ft)</th>\n",
              "      <th>0-60 MPH Time (seconds)</th>\n",
              "      <th>Price (in USD)</th>\n",
              "      <th>Engine Size Cat</th>\n",
              "      <th>Car Age</th>\n",
              "    </tr>\n",
              "  </thead>\n",
              "  <tbody>\n",
              "    <tr>\n",
              "      <th>count</th>\n",
              "      <td>994.000000</td>\n",
              "      <td>994.000000</td>\n",
              "      <td>994.000000</td>\n",
              "      <td>994.000000</td>\n",
              "      <td>994.000000</td>\n",
              "      <td>9.940000e+02</td>\n",
              "      <td>994.000000</td>\n",
              "      <td>994.000000</td>\n",
              "    </tr>\n",
              "    <tr>\n",
              "      <th>mean</th>\n",
              "      <td>15.059356</td>\n",
              "      <td>87.463783</td>\n",
              "      <td>632.870221</td>\n",
              "      <td>554.883300</td>\n",
              "      <td>3.529547</td>\n",
              "      <td>3.755965e+05</td>\n",
              "      <td>12.730382</td>\n",
              "      <td>1.804829</td>\n",
              "    </tr>\n",
              "    <tr>\n",
              "      <th>std</th>\n",
              "      <td>8.638627</td>\n",
              "      <td>48.064546</td>\n",
              "      <td>415.759566</td>\n",
              "      <td>437.401535</td>\n",
              "      <td>0.767991</td>\n",
              "      <td>7.307884e+05</td>\n",
              "      <td>2.375552</td>\n",
              "      <td>2.031508</td>\n",
              "    </tr>\n",
              "    <tr>\n",
              "      <th>min</th>\n",
              "      <td>0.000000</td>\n",
              "      <td>0.000000</td>\n",
              "      <td>181.000000</td>\n",
              "      <td>151.000000</td>\n",
              "      <td>1.000000</td>\n",
              "      <td>2.500000e+04</td>\n",
              "      <td>0.000000</td>\n",
              "      <td>0.000000</td>\n",
              "    </tr>\n",
              "    <tr>\n",
              "      <th>25%</th>\n",
              "      <td>8.000000</td>\n",
              "      <td>52.000000</td>\n",
              "      <td>454.000000</td>\n",
              "      <td>406.000000</td>\n",
              "      <td>2.900000</td>\n",
              "      <td>7.180000e+04</td>\n",
              "      <td>12.000000</td>\n",
              "      <td>1.000000</td>\n",
              "    </tr>\n",
              "    <tr>\n",
              "      <th>50%</th>\n",
              "      <td>13.000000</td>\n",
              "      <td>86.000000</td>\n",
              "      <td>591.000000</td>\n",
              "      <td>509.000000</td>\n",
              "      <td>3.500000</td>\n",
              "      <td>1.346500e+05</td>\n",
              "      <td>14.000000</td>\n",
              "      <td>2.000000</td>\n",
              "    </tr>\n",
              "    <tr>\n",
              "      <th>75%</th>\n",
              "      <td>22.000000</td>\n",
              "      <td>123.000000</td>\n",
              "      <td>671.000000</td>\n",
              "      <td>603.000000</td>\n",
              "      <td>4.000000</td>\n",
              "      <td>2.495000e+05</td>\n",
              "      <td>14.000000</td>\n",
              "      <td>2.000000</td>\n",
              "    </tr>\n",
              "    <tr>\n",
              "      <th>max</th>\n",
              "      <td>37.000000</td>\n",
              "      <td>175.000000</td>\n",
              "      <td>10000.000000</td>\n",
              "      <td>10000.000000</td>\n",
              "      <td>6.500000</td>\n",
              "      <td>5.200000e+06</td>\n",
              "      <td>14.000000</td>\n",
              "      <td>58.000000</td>\n",
              "    </tr>\n",
              "  </tbody>\n",
              "</table>\n",
              "</div>\n",
              "    <div class=\"colab-df-buttons\">\n",
              "\n",
              "  <div class=\"colab-df-container\">\n",
              "    <button class=\"colab-df-convert\" onclick=\"convertToInteractive('df-6c760501-17dc-47c8-b354-dadbc0837804')\"\n",
              "            title=\"Convert this dataframe to an interactive table.\"\n",
              "            style=\"display:none;\">\n",
              "\n",
              "  <svg xmlns=\"http://www.w3.org/2000/svg\" height=\"24px\" viewBox=\"0 -960 960 960\">\n",
              "    <path d=\"M120-120v-720h720v720H120Zm60-500h600v-160H180v160Zm220 220h160v-160H400v160Zm0 220h160v-160H400v160ZM180-400h160v-160H180v160Zm440 0h160v-160H620v160ZM180-180h160v-160H180v160Zm440 0h160v-160H620v160Z\"/>\n",
              "  </svg>\n",
              "    </button>\n",
              "\n",
              "  <style>\n",
              "    .colab-df-container {\n",
              "      display:flex;\n",
              "      gap: 12px;\n",
              "    }\n",
              "\n",
              "    .colab-df-convert {\n",
              "      background-color: #E8F0FE;\n",
              "      border: none;\n",
              "      border-radius: 50%;\n",
              "      cursor: pointer;\n",
              "      display: none;\n",
              "      fill: #1967D2;\n",
              "      height: 32px;\n",
              "      padding: 0 0 0 0;\n",
              "      width: 32px;\n",
              "    }\n",
              "\n",
              "    .colab-df-convert:hover {\n",
              "      background-color: #E2EBFA;\n",
              "      box-shadow: 0px 1px 2px rgba(60, 64, 67, 0.3), 0px 1px 3px 1px rgba(60, 64, 67, 0.15);\n",
              "      fill: #174EA6;\n",
              "    }\n",
              "\n",
              "    .colab-df-buttons div {\n",
              "      margin-bottom: 4px;\n",
              "    }\n",
              "\n",
              "    [theme=dark] .colab-df-convert {\n",
              "      background-color: #3B4455;\n",
              "      fill: #D2E3FC;\n",
              "    }\n",
              "\n",
              "    [theme=dark] .colab-df-convert:hover {\n",
              "      background-color: #434B5C;\n",
              "      box-shadow: 0px 1px 3px 1px rgba(0, 0, 0, 0.15);\n",
              "      filter: drop-shadow(0px 1px 2px rgba(0, 0, 0, 0.3));\n",
              "      fill: #FFFFFF;\n",
              "    }\n",
              "  </style>\n",
              "\n",
              "    <script>\n",
              "      const buttonEl =\n",
              "        document.querySelector('#df-6c760501-17dc-47c8-b354-dadbc0837804 button.colab-df-convert');\n",
              "      buttonEl.style.display =\n",
              "        google.colab.kernel.accessAllowed ? 'block' : 'none';\n",
              "\n",
              "      async function convertToInteractive(key) {\n",
              "        const element = document.querySelector('#df-6c760501-17dc-47c8-b354-dadbc0837804');\n",
              "        const dataTable =\n",
              "          await google.colab.kernel.invokeFunction('convertToInteractive',\n",
              "                                                    [key], {});\n",
              "        if (!dataTable) return;\n",
              "\n",
              "        const docLinkHtml = 'Like what you see? Visit the ' +\n",
              "          '<a target=\"_blank\" href=https://colab.research.google.com/notebooks/data_table.ipynb>data table notebook</a>'\n",
              "          + ' to learn more about interactive tables.';\n",
              "        element.innerHTML = '';\n",
              "        dataTable['output_type'] = 'display_data';\n",
              "        await google.colab.output.renderOutput(dataTable, element);\n",
              "        const docLink = document.createElement('div');\n",
              "        docLink.innerHTML = docLinkHtml;\n",
              "        element.appendChild(docLink);\n",
              "      }\n",
              "    </script>\n",
              "  </div>\n",
              "\n",
              "\n",
              "<div id=\"df-238d5a39-98fe-4f94-a10e-d7f6a64a7de5\">\n",
              "  <button class=\"colab-df-quickchart\" onclick=\"quickchart('df-238d5a39-98fe-4f94-a10e-d7f6a64a7de5')\"\n",
              "            title=\"Suggest charts\"\n",
              "            style=\"display:none;\">\n",
              "\n",
              "<svg xmlns=\"http://www.w3.org/2000/svg\" height=\"24px\"viewBox=\"0 0 24 24\"\n",
              "     width=\"24px\">\n",
              "    <g>\n",
              "        <path d=\"M19 3H5c-1.1 0-2 .9-2 2v14c0 1.1.9 2 2 2h14c1.1 0 2-.9 2-2V5c0-1.1-.9-2-2-2zM9 17H7v-7h2v7zm4 0h-2V7h2v10zm4 0h-2v-4h2v4z\"/>\n",
              "    </g>\n",
              "</svg>\n",
              "  </button>\n",
              "\n",
              "<style>\n",
              "  .colab-df-quickchart {\n",
              "      --bg-color: #E8F0FE;\n",
              "      --fill-color: #1967D2;\n",
              "      --hover-bg-color: #E2EBFA;\n",
              "      --hover-fill-color: #174EA6;\n",
              "      --disabled-fill-color: #AAA;\n",
              "      --disabled-bg-color: #DDD;\n",
              "  }\n",
              "\n",
              "  [theme=dark] .colab-df-quickchart {\n",
              "      --bg-color: #3B4455;\n",
              "      --fill-color: #D2E3FC;\n",
              "      --hover-bg-color: #434B5C;\n",
              "      --hover-fill-color: #FFFFFF;\n",
              "      --disabled-bg-color: #3B4455;\n",
              "      --disabled-fill-color: #666;\n",
              "  }\n",
              "\n",
              "  .colab-df-quickchart {\n",
              "    background-color: var(--bg-color);\n",
              "    border: none;\n",
              "    border-radius: 50%;\n",
              "    cursor: pointer;\n",
              "    display: none;\n",
              "    fill: var(--fill-color);\n",
              "    height: 32px;\n",
              "    padding: 0;\n",
              "    width: 32px;\n",
              "  }\n",
              "\n",
              "  .colab-df-quickchart:hover {\n",
              "    background-color: var(--hover-bg-color);\n",
              "    box-shadow: 0 1px 2px rgba(60, 64, 67, 0.3), 0 1px 3px 1px rgba(60, 64, 67, 0.15);\n",
              "    fill: var(--button-hover-fill-color);\n",
              "  }\n",
              "\n",
              "  .colab-df-quickchart-complete:disabled,\n",
              "  .colab-df-quickchart-complete:disabled:hover {\n",
              "    background-color: var(--disabled-bg-color);\n",
              "    fill: var(--disabled-fill-color);\n",
              "    box-shadow: none;\n",
              "  }\n",
              "\n",
              "  .colab-df-spinner {\n",
              "    border: 2px solid var(--fill-color);\n",
              "    border-color: transparent;\n",
              "    border-bottom-color: var(--fill-color);\n",
              "    animation:\n",
              "      spin 1s steps(1) infinite;\n",
              "  }\n",
              "\n",
              "  @keyframes spin {\n",
              "    0% {\n",
              "      border-color: transparent;\n",
              "      border-bottom-color: var(--fill-color);\n",
              "      border-left-color: var(--fill-color);\n",
              "    }\n",
              "    20% {\n",
              "      border-color: transparent;\n",
              "      border-left-color: var(--fill-color);\n",
              "      border-top-color: var(--fill-color);\n",
              "    }\n",
              "    30% {\n",
              "      border-color: transparent;\n",
              "      border-left-color: var(--fill-color);\n",
              "      border-top-color: var(--fill-color);\n",
              "      border-right-color: var(--fill-color);\n",
              "    }\n",
              "    40% {\n",
              "      border-color: transparent;\n",
              "      border-right-color: var(--fill-color);\n",
              "      border-top-color: var(--fill-color);\n",
              "    }\n",
              "    60% {\n",
              "      border-color: transparent;\n",
              "      border-right-color: var(--fill-color);\n",
              "    }\n",
              "    80% {\n",
              "      border-color: transparent;\n",
              "      border-right-color: var(--fill-color);\n",
              "      border-bottom-color: var(--fill-color);\n",
              "    }\n",
              "    90% {\n",
              "      border-color: transparent;\n",
              "      border-bottom-color: var(--fill-color);\n",
              "    }\n",
              "  }\n",
              "</style>\n",
              "\n",
              "  <script>\n",
              "    async function quickchart(key) {\n",
              "      const quickchartButtonEl =\n",
              "        document.querySelector('#' + key + ' button');\n",
              "      quickchartButtonEl.disabled = true;  // To prevent multiple clicks.\n",
              "      quickchartButtonEl.classList.add('colab-df-spinner');\n",
              "      try {\n",
              "        const charts = await google.colab.kernel.invokeFunction(\n",
              "            'suggestCharts', [key], {});\n",
              "      } catch (error) {\n",
              "        console.error('Error during call to suggestCharts:', error);\n",
              "      }\n",
              "      quickchartButtonEl.classList.remove('colab-df-spinner');\n",
              "      quickchartButtonEl.classList.add('colab-df-quickchart-complete');\n",
              "    }\n",
              "    (() => {\n",
              "      let quickchartButtonEl =\n",
              "        document.querySelector('#df-238d5a39-98fe-4f94-a10e-d7f6a64a7de5 button');\n",
              "      quickchartButtonEl.style.display =\n",
              "        google.colab.kernel.accessAllowed ? 'block' : 'none';\n",
              "    })();\n",
              "  </script>\n",
              "</div>\n",
              "    </div>\n",
              "  </div>\n"
            ]
          },
          "metadata": {},
          "execution_count": 56
        }
      ],
      "source": [
        "df.describe()"
      ]
    },
    {
      "cell_type": "markdown",
      "id": "97a16e05",
      "metadata": {
        "papermill": {
          "duration": 0.011933,
          "end_time": "2023-03-12T16:09:38.397479",
          "exception": false,
          "start_time": "2023-03-12T16:09:38.385546",
          "status": "completed"
        },
        "tags": [],
        "id": "97a16e05"
      },
      "source": [
        "Dari angka statistik di atas, kita dapat melihat beberapa outlier pada kolom 'Torsi (lb-ft)', sehingga kita akan mengecualikan data yang 'Torsi (lb-ft)' sama dengan 0."
      ]
    },
    {
      "cell_type": "markdown",
      "id": "3d19da35",
      "metadata": {
        "papermill": {
          "duration": 0.012886,
          "end_time": "2023-03-12T16:09:38.889686",
          "exception": false,
          "start_time": "2023-03-12T16:09:38.876800",
          "status": "completed"
        },
        "tags": [],
        "id": "3d19da35"
      },
      "source": [
        "# Univariate Analysis"
      ]
    },
    {
      "cell_type": "code",
      "execution_count": null,
      "id": "11dea402",
      "metadata": {
        "execution": {
          "iopub.execute_input": "2023-03-12T16:09:39.932385Z",
          "iopub.status.busy": "2023-03-12T16:09:39.931301Z",
          "iopub.status.idle": "2023-03-12T16:09:40.632346Z",
          "shell.execute_reply": "2023-03-12T16:09:40.631103Z"
        },
        "papermill": {
          "duration": 0.719014,
          "end_time": "2023-03-12T16:09:40.635197",
          "exception": false,
          "start_time": "2023-03-12T16:09:39.916183",
          "status": "completed"
        },
        "tags": [],
        "colab": {
          "base_uri": "https://localhost:8080/",
          "height": 277
        },
        "id": "11dea402",
        "outputId": "2675fadb-1ac5-425d-ff61-ac44ea9ed9af"
      },
      "outputs": [
        {
          "output_type": "display_data",
          "data": {
            "text/plain": [
              "<Figure size 1500x500 with 3 Axes>"
            ],
            "image/png": "[encoded data removed]"
          },
          "metadata": {}
        }
      ],
      "source": [
        "plt.figure(figsize=(15,5))\n",
        "plt.subplot(1,3,1)\n",
        "sns.distplot(df['Horsepower'])\n",
        "\n",
        "plt.subplot(1,3,2)\n",
        "sns.distplot(df['Torque (lb-ft)'])\n",
        "\n",
        "plt.subplot(1,3,3)\n",
        "sns.distplot(df['0-60 MPH Time (seconds)'])\n",
        "plt.show()"
      ]
    },
    {
      "cell_type": "markdown",
      "id": "f8791289",
      "metadata": {
        "papermill": {
          "duration": 0.014205,
          "end_time": "2023-03-12T16:09:40.664113",
          "exception": false,
          "start_time": "2023-03-12T16:09:40.649908",
          "status": "completed"
        },
        "tags": [],
        "id": "f8791289"
      },
      "source": [
        "# Bivariate Analysis"
      ]
    },
    {
      "cell_type": "code",
      "execution_count": null,
      "id": "d42de4e1",
      "metadata": {
        "execution": {
          "iopub.execute_input": "2023-03-12T16:09:40.695608Z",
          "iopub.status.busy": "2023-03-12T16:09:40.695160Z",
          "iopub.status.idle": "2023-03-12T16:09:40.995933Z",
          "shell.execute_reply": "2023-03-12T16:09:40.994353Z"
        },
        "papermill": {
          "duration": 0.319371,
          "end_time": "2023-03-12T16:09:40.998349",
          "exception": false,
          "start_time": "2023-03-12T16:09:40.678978",
          "status": "completed"
        },
        "tags": [],
        "colab": {
          "base_uri": "https://localhost:8080/",
          "height": 467
        },
        "id": "d42de4e1",
        "outputId": "4f786c87-a22f-4e35-e0df-acc9e397b4a1"
      },
      "outputs": [
        {
          "output_type": "display_data",
          "data": {
            "text/plain": [
              "<Figure size 640x480 with 1 Axes>"
            ],
            "image/png": "[encoded data removed]"
          },
          "metadata": {}
        }
      ],
      "source": [
        "car_make_sum = df.groupby('Car Make')['Price (in USD)'].sum().reset_index().head(10).sort_values('Price (in USD)',ascending=False).reset_index(drop=True)\n",
        "g = sns.barplot(data=car_make_sum,x='Car Make',y='Price (in USD)')\n",
        "for v in car_make_sum.itertuples():\n",
        "    #print(v._2)\n",
        "    g.text(x=v.Index,y=v._2,s=str(round(v._2, 2)), size=7, ha=\"center\")\n",
        "plt.title('Price by Car Make')\n",
        "plt.xticks(rotation=90)\n",
        "plt.show()"
      ]
    },
    {
      "cell_type": "code",
      "execution_count": null,
      "id": "d6e81bb2",
      "metadata": {
        "execution": {
          "iopub.execute_input": "2023-03-12T16:09:41.031039Z",
          "iopub.status.busy": "2023-03-12T16:09:41.030582Z",
          "iopub.status.idle": "2023-03-12T16:09:41.321621Z",
          "shell.execute_reply": "2023-03-12T16:09:41.319808Z"
        },
        "papermill": {
          "duration": 0.311501,
          "end_time": "2023-03-12T16:09:41.325082",
          "exception": false,
          "start_time": "2023-03-12T16:09:41.013581",
          "status": "completed"
        },
        "tags": [],
        "colab": {
          "base_uri": "https://localhost:8080/",
          "height": 467
        },
        "id": "d6e81bb2",
        "outputId": "ee0ac06c-0773-4bf6-bac9-feb35ad7dd90"
      },
      "outputs": [
        {
          "output_type": "display_data",
          "data": {
            "text/plain": [
              "<Figure size 640x480 with 1 Axes>"
            ],
            "image/png": "[encoded data removed]"
          },
          "metadata": {}
        }
      ],
      "source": [
        "car_model_sum = df.groupby('Car Model')['Price (in USD)'].sum().reset_index().head(10).sort_values('Price (in USD)',ascending=False).reset_index(drop=True)\n",
        "g = sns.barplot(data=car_model_sum,x='Car Model',y='Price (in USD)')\n",
        "for v in car_model_sum.itertuples():\n",
        "    #print(v._2)\n",
        "    g.text(x=v.Index,y=v._2,s=str(round(v._2, 2)), size=7, ha=\"center\")\n",
        "plt.title('Price by Car Model')\n",
        "plt.xticks(rotation=90)\n",
        "plt.show()"
      ]
    },
    {
      "cell_type": "code",
      "execution_count": null,
      "id": "dc660b7b",
      "metadata": {
        "execution": {
          "iopub.execute_input": "2023-03-12T16:09:41.360949Z",
          "iopub.status.busy": "2023-03-12T16:09:41.360458Z",
          "iopub.status.idle": "2023-03-12T16:09:41.686914Z",
          "shell.execute_reply": "2023-03-12T16:09:41.685564Z"
        },
        "papermill": {
          "duration": 0.347237,
          "end_time": "2023-03-12T16:09:41.689647",
          "exception": false,
          "start_time": "2023-03-12T16:09:41.342410",
          "status": "completed"
        },
        "tags": [],
        "colab": {
          "base_uri": "https://localhost:8080/",
          "height": 467
        },
        "id": "dc660b7b",
        "outputId": "3c260a54-593c-45d0-e8d2-930f8350a16c"
      },
      "outputs": [
        {
          "output_type": "display_data",
          "data": {
            "text/plain": [
              "<Figure size 640x480 with 1 Axes>"
            ],
            "image/png": "[encoded data removed]"
          },
          "metadata": {}
        }
      ],
      "source": [
        "engine_sum = df.groupby('Engine Size Cat')['Price (in USD)'].sum().reset_index().head(10).sort_values('Price (in USD)',ascending=False).reset_index(drop=True)\n",
        "g = sns.barplot(data=engine_sum,x='Engine Size Cat',y='Price (in USD)')\n",
        "for v in engine_sum.itertuples():\n",
        "    #print(v._2)\n",
        "    g.text(x=v.Index,y=v._2+1e6,s=str(round(v._2, 2)), size=7, ha=\"center\")\n",
        "plt.title('Price by Engine Size')\n",
        "plt.xticks(rotation=90)\n",
        "plt.show()"
      ]
    },
    {
      "cell_type": "markdown",
      "id": "47512e89",
      "metadata": {
        "papermill": {
          "duration": 0.017766,
          "end_time": "2023-03-12T16:09:41.724649",
          "exception": false,
          "start_time": "2023-03-12T16:09:41.706883",
          "status": "completed"
        },
        "tags": [],
        "id": "47512e89"
      },
      "source": [
        "Untuk kolom 'Horsepower', akan mengurutkan nilai dalam urutan menaik, lalu membuat rentang berbeda untuk mengubahnya menjadi variabel kategori untuk dianalisis."
      ]
    },
    {
      "cell_type": "code",
      "execution_count": null,
      "id": "93debeb2",
      "metadata": {
        "execution": {
          "iopub.execute_input": "2023-03-12T16:09:41.760700Z",
          "iopub.status.busy": "2023-03-12T16:09:41.759324Z",
          "iopub.status.idle": "2023-03-12T16:09:42.091545Z",
          "shell.execute_reply": "2023-03-12T16:09:42.090535Z"
        },
        "papermill": {
          "duration": 0.352942,
          "end_time": "2023-03-12T16:09:42.094013",
          "exception": false,
          "start_time": "2023-03-12T16:09:41.741071",
          "status": "completed"
        },
        "tags": [],
        "colab": {
          "base_uri": "https://localhost:8080/",
          "height": 522
        },
        "id": "93debeb2",
        "outputId": "5ce1a3de-c278-4232-a0af-5b2e078e66b5"
      },
      "outputs": [
        {
          "output_type": "display_data",
          "data": {
            "text/plain": [
              "<Figure size 640x480 with 1 Axes>"
            ],
            "image/png": "[encoded data removed]"
          },
          "metadata": {}
        }
      ],
      "source": [
        "# Memeriksa jumlah Horsepower unik dalam urutan menaik\n",
        "np.array(sorted(df.Horsepower.unique()))\n",
        "\n",
        "# Mengelompokkan Horsepower di seluruh rentang untuk mengubahnya menjadi variabel kategori\n",
        "df['Horsepower_bucket'] = pd.cut(df['Horsepower'],[0,100,200,300,400,500,600,700,800,900,1000,5000,10000],labels=['0-100','100-200','200-300','300-400','400-500','500-600','600-700','700-800','800-900','900-1000','1000-5000','5000-10000'])\n",
        "\n",
        "# plot value\n",
        "horsepower_bucket = df.groupby('Horsepower_bucket')['Price (in USD)'].sum().reset_index().sort_values('Price (in USD)',ascending=False,ignore_index=True)\n",
        "g = sns.barplot(data=horsepower_bucket,x=horsepower_bucket.index,y='Price (in USD)')\n",
        "for v in horsepower_bucket.itertuples():\n",
        "    #print(v)\n",
        "    g.text(x=v.Index,y=v._2+1e6,s=str(v._2), size=7, ha=\"center\")\n",
        "plt.title('Price by HorsePower')\n",
        "plt.xticks(ticks=horsepower_bucket.index,labels=horsepower_bucket['Horsepower_bucket'].values,rotation=90)\n",
        "plt.show()"
      ]
    },
    {
      "cell_type": "code",
      "execution_count": null,
      "id": "24e34b28",
      "metadata": {
        "execution": {
          "iopub.execute_input": "2023-03-12T16:09:42.167300Z",
          "iopub.status.busy": "2023-03-12T16:09:42.166851Z",
          "iopub.status.idle": "2023-03-12T16:09:42.504190Z",
          "shell.execute_reply": "2023-03-12T16:09:42.502878Z"
        },
        "papermill": {
          "duration": 0.359356,
          "end_time": "2023-03-12T16:09:42.506879",
          "exception": false,
          "start_time": "2023-03-12T16:09:42.147523",
          "status": "completed"
        },
        "tags": [],
        "colab": {
          "base_uri": "https://localhost:8080/",
          "height": 522
        },
        "id": "24e34b28",
        "outputId": "a705287f-abcd-4c65-e098-4c9c4926338a"
      },
      "outputs": [
        {
          "output_type": "display_data",
          "data": {
            "text/plain": [
              "<Figure size 640x480 with 1 Axes>"
            ],
            "image/png": "[encoded data removed]"
          },
          "metadata": {}
        }
      ],
      "source": [
        "# Checking the number of unique Horsepower in ascending order\n",
        "np.array(sorted(df['Torque (lb-ft)'].unique()))\n",
        "\n",
        "# Bucketing the Horsepower across ranges to convert it to a categorical variable\n",
        "df['Torque_bucket'] = pd.cut(df['Torque (lb-ft)'],[0,100,200,300,400,500,600,700,800,900,1000,5000,10000],labels=['0-100','100-200','200-300','300-400','400-500','500-600','600-700','700-800','800-900','900-1000','1000-5000','5000-10000'])\n",
        "\n",
        "# plot value\n",
        "torque_bucket = df.groupby('Torque_bucket')['Price (in USD)'].sum().reset_index().sort_values('Price (in USD)',ascending=False,ignore_index=True)\n",
        "g = sns.barplot(data=torque_bucket,x=torque_bucket.index,y='Price (in USD)')\n",
        "for v in torque_bucket.itertuples():\n",
        "    #print(v)\n",
        "    g.text(x=v.Index,y=v._2+1e6,s=str(v._2), size=7, ha=\"center\")\n",
        "plt.title('Price by Torque')\n",
        "plt.xticks(ticks=torque_bucket.index,labels=torque_bucket['Torque_bucket'].values,rotation=90)\n",
        "plt.show()"
      ]
    },
    {
      "cell_type": "markdown",
      "id": "8fef5075",
      "metadata": {
        "papermill": {
          "duration": 0.017107,
          "end_time": "2023-03-12T16:09:42.818896",
          "exception": false,
          "start_time": "2023-03-12T16:09:42.801789",
          "status": "completed"
        },
        "tags": [],
        "id": "8fef5075"
      },
      "source": [
        "# Model Building"
      ]
    },
    {
      "cell_type": "code",
      "execution_count": null,
      "id": "4231ee8b",
      "metadata": {
        "execution": {
          "iopub.execute_input": "2023-03-12T16:09:42.856226Z",
          "iopub.status.busy": "2023-03-12T16:09:42.855157Z",
          "iopub.status.idle": "2023-03-12T16:09:42.864137Z",
          "shell.execute_reply": "2023-03-12T16:09:42.863263Z"
        },
        "papermill": {
          "duration": 0.029896,
          "end_time": "2023-03-12T16:09:42.866232",
          "exception": false,
          "start_time": "2023-03-12T16:09:42.836336",
          "status": "completed"
        },
        "tags": [],
        "colab": {
          "base_uri": "https://localhost:8080/"
        },
        "id": "4231ee8b",
        "outputId": "ad6103d3-05d5-40ae-a2f3-e11031ca90ff"
      },
      "outputs": [
        {
          "output_type": "execute_result",
          "data": {
            "text/plain": [
              "{'objective': 'reg:squarederror',\n",
              " 'base_score': None,\n",
              " 'booster': None,\n",
              " 'callbacks': None,\n",
              " 'colsample_bylevel': None,\n",
              " 'colsample_bynode': None,\n",
              " 'colsample_bytree': None,\n",
              " 'device': None,\n",
              " 'early_stopping_rounds': None,\n",
              " 'enable_categorical': False,\n",
              " 'eval_metric': None,\n",
              " 'feature_types': None,\n",
              " 'gamma': None,\n",
              " 'grow_policy': None,\n",
              " 'importance_type': None,\n",
              " 'interaction_constraints': None,\n",
              " 'learning_rate': None,\n",
              " 'max_bin': None,\n",
              " 'max_cat_threshold': None,\n",
              " 'max_cat_to_onehot': None,\n",
              " 'max_delta_step': None,\n",
              " 'max_depth': None,\n",
              " 'max_leaves': None,\n",
              " 'min_child_weight': None,\n",
              " 'missing': nan,\n",
              " 'monotone_constraints': None,\n",
              " 'multi_strategy': None,\n",
              " 'n_estimators': None,\n",
              " 'n_jobs': -1,\n",
              " 'num_parallel_tree': None,\n",
              " 'random_state': None,\n",
              " 'reg_alpha': None,\n",
              " 'reg_lambda': None,\n",
              " 'sampling_method': None,\n",
              " 'scale_pos_weight': None,\n",
              " 'subsample': None,\n",
              " 'tree_method': None,\n",
              " 'validate_parameters': None,\n",
              " 'verbosity': None}"
            ]
          },
          "metadata": {},
          "execution_count": 62
        }
      ],
      "source": [
        "# Membuat objek XGBRegressor dengan parameter default\n",
        "xgb_reg = xgb.XGBRegressor(n_jobs = -1) # default paramters\n",
        "xgb_reg.get_params()"
      ]
    },
    {
      "cell_type": "code",
      "execution_count": null,
      "id": "07e63117",
      "metadata": {
        "execution": {
          "iopub.execute_input": "2023-03-12T16:09:42.905731Z",
          "iopub.status.busy": "2023-03-12T16:09:42.904438Z",
          "iopub.status.idle": "2023-03-12T16:09:43.266709Z",
          "shell.execute_reply": "2023-03-12T16:09:43.265739Z"
        },
        "papermill": {
          "duration": 0.38533,
          "end_time": "2023-03-12T16:09:43.269304",
          "exception": false,
          "start_time": "2023-03-12T16:09:42.883974",
          "status": "completed"
        },
        "tags": [],
        "colab": {
          "base_uri": "https://localhost:8080/",
          "height": 248
        },
        "id": "07e63117",
        "outputId": "6c6af858-ded9-4e7b-b0eb-ff7fbc1850ac"
      },
      "outputs": [
        {
          "output_type": "execute_result",
          "data": {
            "text/plain": [
              "XGBRegressor(base_score=None, booster=None, callbacks=None,\n",
              "             colsample_bylevel=None, colsample_bynode=None,\n",
              "             colsample_bytree=None, device=None, early_stopping_rounds=None,\n",
              "             enable_categorical=False, eval_metric=None, feature_types=None,\n",
              "             gamma=None, grow_policy=None, importance_type=None,\n",
              "             interaction_constraints=None, learning_rate=None, max_bin=None,\n",
              "             max_cat_threshold=None, max_cat_to_onehot=None,\n",
              "             max_delta_step=None, max_depth=None, max_leaves=None,\n",
              "             min_child_weight=None, missing=nan, monotone_constraints=None,\n",
              "             multi_strategy=None, n_estimators=None, n_jobs=-1,\n",
              "             num_parallel_tree=None, random_state=None, ...)"
            ],
            "text/html": [
              "<style>#sk-container-id-4 {color: black;background-color: white;}#sk-container-id-4 pre{padding: 0;}#sk-container-id-4 div.sk-toggleable {background-color: white;}#sk-container-id-4 label.sk-toggleable__label {cursor: pointer;display: block;width: 100%;margin-bottom: 0;padding: 0.3em;box-sizing: border-box;text-align: center;}#sk-container-id-4 label.sk-toggleable__label-arrow:before {content: \"▸\";float: left;margin-right: 0.25em;color: #696969;}#sk-container-id-4 label.sk-toggleable__label-arrow:hover:before {color: black;}#sk-container-id-4 div.sk-estimator:hover label.sk-toggleable__label-arrow:before {color: black;}#sk-container-id-4 div.sk-toggleable__content {max-height: 0;max-width: 0;overflow: hidden;text-align: left;background-color: #f0f8ff;}#sk-container-id-4 div.sk-toggleable__content pre {margin: 0.2em;color: black;border-radius: 0.25em;background-color: #f0f8ff;}#sk-container-id-4 input.sk-toggleable__control:checked~div.sk-toggleable__content {max-height: 200px;max-width: 100%;overflow: auto;}#sk-container-id-4 input.sk-toggleable__control:checked~label.sk-toggleable__label-arrow:before {content: \"▾\";}#sk-container-id-4 div.sk-estimator input.sk-toggleable__control:checked~label.sk-toggleable__label {background-color: #d4ebff;}#sk-container-id-4 div.sk-label input.sk-toggleable__control:checked~label.sk-toggleable__label {background-color: #d4ebff;}#sk-container-id-4 input.sk-hidden--visually {border: 0;clip: rect(1px 1px 1px 1px);clip: rect(1px, 1px, 1px, 1px);height: 1px;margin: -1px;overflow: hidden;padding: 0;position: absolute;width: 1px;}#sk-container-id-4 div.sk-estimator {font-family: monospace;background-color: #f0f8ff;border: 1px dotted black;border-radius: 0.25em;box-sizing: border-box;margin-bottom: 0.5em;}#sk-container-id-4 div.sk-estimator:hover {background-color: #d4ebff;}#sk-container-id-4 div.sk-parallel-item::after {content: \"\";width: 100%;border-bottom: 1px solid gray;flex-grow: 1;}#sk-container-id-4 div.sk-label:hover label.sk-toggleable__label {background-color: #d4ebff;}#sk-container-id-4 div.sk-serial::before {content: \"\";position: absolute;border-left: 1px solid gray;box-sizing: border-box;top: 0;bottom: 0;left: 50%;z-index: 0;}#sk-container-id-4 div.sk-serial {display: flex;flex-direction: column;align-items: center;background-color: white;padding-right: 0.2em;padding-left: 0.2em;position: relative;}#sk-container-id-4 div.sk-item {position: relative;z-index: 1;}#sk-container-id-4 div.sk-parallel {display: flex;align-items: stretch;justify-content: center;background-color: white;position: relative;}#sk-container-id-4 div.sk-item::before, #sk-container-id-4 div.sk-parallel-item::before {content: \"\";position: absolute;border-left: 1px solid gray;box-sizing: border-box;top: 0;bottom: 0;left: 50%;z-index: -1;}#sk-container-id-4 div.sk-parallel-item {display: flex;flex-direction: column;z-index: 1;position: relative;background-color: white;}#sk-container-id-4 div.sk-parallel-item:first-child::after {align-self: flex-end;width: 50%;}#sk-container-id-4 div.sk-parallel-item:last-child::after {align-self: flex-start;width: 50%;}#sk-container-id-4 div.sk-parallel-item:only-child::after {width: 0;}#sk-container-id-4 div.sk-dashed-wrapped {border: 1px dashed gray;margin: 0 0.4em 0.5em 0.4em;box-sizing: border-box;padding-bottom: 0.4em;background-color: white;}#sk-container-id-4 div.sk-label label {font-family: monospace;font-weight: bold;display: inline-block;line-height: 1.2em;}#sk-container-id-4 div.sk-label-container {text-align: center;}#sk-container-id-4 div.sk-container {/* jupyter's `normalize.less` sets `[hidden] { display: none; }` but bootstrap.min.css set `[hidden] { display: none !important; }` so we also need the `!important` here to be able to override the default hidden behavior on the sphinx rendered scikit-learn.org. See: https://github.com/scikit-learn/scikit-learn/issues/21755 */display: inline-block !important;position: relative;}#sk-container-id-4 div.sk-text-repr-fallback {display: none;}</style><div id=\"sk-container-id-4\" class=\"sk-top-container\"><div class=\"sk-text-repr-fallback\"><pre>XGBRegressor(base_score=None, booster=None, callbacks=None,\n",
              "             colsample_bylevel=None, colsample_bynode=None,\n",
              "             colsample_bytree=None, device=None, early_stopping_rounds=None,\n",
              "             enable_categorical=False, eval_metric=None, feature_types=None,\n",
              "             gamma=None, grow_policy=None, importance_type=None,\n",
              "             interaction_constraints=None, learning_rate=None, max_bin=None,\n",
              "             max_cat_threshold=None, max_cat_to_onehot=None,\n",
              "             max_delta_step=None, max_depth=None, max_leaves=None,\n",
              "             min_child_weight=None, missing=nan, monotone_constraints=None,\n",
              "             multi_strategy=None, n_estimators=None, n_jobs=-1,\n",
              "             num_parallel_tree=None, random_state=None, ...)</pre><b>In a Jupyter environment, please rerun this cell to show the HTML representation or trust the notebook. <br />On GitHub, the HTML representation is unable to render, please try loading this page with nbviewer.org.</b></div><div class=\"sk-container\" hidden><div class=\"sk-item\"><div class=\"sk-estimator sk-toggleable\"><input class=\"sk-toggleable__control sk-hidden--visually\" id=\"sk-estimator-id-6\" type=\"checkbox\" checked><label for=\"sk-estimator-id-6\" class=\"sk-toggleable__label sk-toggleable__label-arrow\">XGBRegressor</label><div class=\"sk-toggleable__content\"><pre>XGBRegressor(base_score=None, booster=None, callbacks=None,\n",
              "             colsample_bylevel=None, colsample_bynode=None,\n",
              "             colsample_bytree=None, device=None, early_stopping_rounds=None,\n",
              "             enable_categorical=False, eval_metric=None, feature_types=None,\n",
              "             gamma=None, grow_policy=None, importance_type=None,\n",
              "             interaction_constraints=None, learning_rate=None, max_bin=None,\n",
              "             max_cat_threshold=None, max_cat_to_onehot=None,\n",
              "             max_delta_step=None, max_depth=None, max_leaves=None,\n",
              "             min_child_weight=None, missing=nan, monotone_constraints=None,\n",
              "             multi_strategy=None, n_estimators=None, n_jobs=-1,\n",
              "             num_parallel_tree=None, random_state=None, ...)</pre></div></div></div></div></div>"
            ]
          },
          "metadata": {},
          "execution_count": 43
        }
      ],
      "source": [
        "# Menyesuaikan model XGBRegression pada dataset kereta\n",
        "xgb_reg.fit(X_train, y_train)"
      ]
    },
    {
      "cell_type": "code",
      "execution_count": null,
      "id": "52eb9560",
      "metadata": {
        "execution": {
          "iopub.execute_input": "2023-03-12T16:09:43.306974Z",
          "iopub.status.busy": "2023-03-12T16:09:43.306014Z",
          "iopub.status.idle": "2023-03-12T16:09:43.317734Z",
          "shell.execute_reply": "2023-03-12T16:09:43.316750Z"
        },
        "papermill": {
          "duration": 0.033748,
          "end_time": "2023-03-12T16:09:43.320886",
          "exception": false,
          "start_time": "2023-03-12T16:09:43.287138",
          "status": "completed"
        },
        "tags": [],
        "id": "52eb9560"
      },
      "outputs": [],
      "source": [
        "# Memprediksi kumpulan data pengujian\n",
        "y_pred_test = xgb_reg.predict(X_test)\n",
        "r2score = round(r2_score(y_pred_test,y_test),2)*100"
      ]
    },
    {
      "cell_type": "code",
      "execution_count": null,
      "id": "93b44eba",
      "metadata": {
        "execution": {
          "iopub.execute_input": "2023-03-12T16:09:43.360483Z",
          "iopub.status.busy": "2023-03-12T16:09:43.360080Z",
          "iopub.status.idle": "2023-03-12T16:09:43.365951Z",
          "shell.execute_reply": "2023-03-12T16:09:43.364745Z"
        },
        "papermill": {
          "duration": 0.028127,
          "end_time": "2023-03-12T16:09:43.368718",
          "exception": false,
          "start_time": "2023-03-12T16:09:43.340591",
          "status": "completed"
        },
        "tags": [],
        "colab": {
          "base_uri": "https://localhost:8080/"
        },
        "id": "93b44eba",
        "outputId": "15749c4e-bbfc-4bc3-9c9e-5f0e8c24ca4e"
      },
      "outputs": [
        {
          "output_type": "stream",
          "name": "stdout",
          "text": [
            "R2 Score on Test Data is :  94.0\n"
          ]
        }
      ],
      "source": [
        "# Menghitung skor R2 pada dataset pengujian\n",
        "print(\"R2 Score on Test Data is : \",r2score)"
      ]
    },
    {
      "cell_type": "code",
      "execution_count": null,
      "id": "ed23197e",
      "metadata": {
        "execution": {
          "iopub.execute_input": "2023-03-12T16:09:43.407534Z",
          "iopub.status.busy": "2023-03-12T16:09:43.406803Z",
          "iopub.status.idle": "2023-03-12T16:09:43.414257Z",
          "shell.execute_reply": "2023-03-12T16:09:43.412811Z"
        },
        "papermill": {
          "duration": 0.031204,
          "end_time": "2023-03-12T16:09:43.418102",
          "exception": false,
          "start_time": "2023-03-12T16:09:43.386898",
          "status": "completed"
        },
        "tags": [],
        "colab": {
          "base_uri": "https://localhost:8080/"
        },
        "id": "ed23197e",
        "outputId": "ef75480c-fb39-41e8-f184-9de89564fff0"
      },
      "outputs": [
        {
          "output_type": "stream",
          "name": "stdout",
          "text": [
            "212646.27\n"
          ]
        }
      ],
      "source": [
        "# Menghitung Mean Squared Error dan Root Mean Squared Error\n",
        "mse = mean_squared_error(y_test, y_pred_test)\n",
        "rmse = round(math.sqrt(mse),2)\n",
        "print(rmse)"
      ]
    },
    {
      "cell_type": "markdown",
      "id": "90d71ee7",
      "metadata": {
        "papermill": {
          "duration": 0.018154,
          "end_time": "2023-03-12T16:09:43.454526",
          "exception": false,
          "start_time": "2023-03-12T16:09:43.436372",
          "status": "completed"
        },
        "tags": [],
        "id": "90d71ee7"
      },
      "source": [
        "# Random Search for Xgboost Regression"
      ]
    },
    {
      "cell_type": "code",
      "execution_count": null,
      "id": "bbaf9677",
      "metadata": {
        "execution": {
          "iopub.execute_input": "2023-03-12T16:09:43.495699Z",
          "iopub.status.busy": "2023-03-12T16:09:43.495293Z",
          "iopub.status.idle": "2023-03-12T16:13:10.358654Z",
          "shell.execute_reply": "2023-03-12T16:13:10.356849Z"
        },
        "papermill": {
          "duration": 206.906458,
          "end_time": "2023-03-12T16:13:10.380541",
          "exception": false,
          "start_time": "2023-03-12T16:09:43.474083",
          "status": "completed"
        },
        "tags": [],
        "colab": {
          "base_uri": "https://localhost:8080/",
          "height": 728
        },
        "id": "bbaf9677",
        "outputId": "a47fbd49-9475-4276-c445-3d269311a7ae"
      },
      "outputs": [
        {
          "output_type": "stream",
          "name": "stdout",
          "text": [
            "Fitting 5 folds for each of 100 candidates, totalling 500 fits\n"
          ]
        },
        {
          "output_type": "execute_result",
          "data": {
            "text/plain": [
              "RandomizedSearchCV(cv=5,\n",
              "                   estimator=XGBRegressor(base_score=None, booster=None,\n",
              "                                          callbacks=None,\n",
              "                                          colsample_bylevel=None,\n",
              "                                          colsample_bynode=None,\n",
              "                                          colsample_bytree=None, device=None,\n",
              "                                          early_stopping_rounds=None,\n",
              "                                          enable_categorical=False,\n",
              "                                          eval_metric=None, feature_types=None,\n",
              "                                          gamma=None, grow_policy=None,\n",
              "                                          importance_type=None,\n",
              "                                          interaction_constraints=None,\n",
              "                                          learning_rate=...\n",
              "                                          n_estimators=None, n_jobs=-1,\n",
              "                                          num_parallel_tree=None,\n",
              "                                          random_state=None, ...),\n",
              "                   n_iter=100, n_jobs=-1,\n",
              "                   param_distributions={'colsample_bytree': [0.6, 0.8, 1.0],\n",
              "                                        'gamma': [0.1, 0.5, 1, 1.5, 5],\n",
              "                                        'learning_rate': [0.01, 0.02, 0.05, 0.1,\n",
              "                                                          0.25],\n",
              "                                        'max_depth': [3, 4, 5, 10, 12],\n",
              "                                        'min_child_weight': [1, 5, 7, 10],\n",
              "                                        'n_estimators': [100, 200, 500, 750],\n",
              "                                        'subsample': [0.6, 0.8, 1.0]},\n",
              "                   random_state=42, verbose=3)"
            ],
            "text/html": [
              "<style>#sk-container-id-2 {color: black;background-color: white;}#sk-container-id-2 pre{padding: 0;}#sk-container-id-2 div.sk-toggleable {background-color: white;}#sk-container-id-2 label.sk-toggleable__label {cursor: pointer;display: block;width: 100%;margin-bottom: 0;padding: 0.3em;box-sizing: border-box;text-align: center;}#sk-container-id-2 label.sk-toggleable__label-arrow:before {content: \"▸\";float: left;margin-right: 0.25em;color: #696969;}#sk-container-id-2 label.sk-toggleable__label-arrow:hover:before {color: black;}#sk-container-id-2 div.sk-estimator:hover label.sk-toggleable__label-arrow:before {color: black;}#sk-container-id-2 div.sk-toggleable__content {max-height: 0;max-width: 0;overflow: hidden;text-align: left;background-color: #f0f8ff;}#sk-container-id-2 div.sk-toggleable__content pre {margin: 0.2em;color: black;border-radius: 0.25em;background-color: #f0f8ff;}#sk-container-id-2 input.sk-toggleable__control:checked~div.sk-toggleable__content {max-height: 200px;max-width: 100%;overflow: auto;}#sk-container-id-2 input.sk-toggleable__control:checked~label.sk-toggleable__label-arrow:before {content: \"▾\";}#sk-container-id-2 div.sk-estimator input.sk-toggleable__control:checked~label.sk-toggleable__label {background-color: #d4ebff;}#sk-container-id-2 div.sk-label input.sk-toggleable__control:checked~label.sk-toggleable__label {background-color: #d4ebff;}#sk-container-id-2 input.sk-hidden--visually {border: 0;clip: rect(1px 1px 1px 1px);clip: rect(1px, 1px, 1px, 1px);height: 1px;margin: -1px;overflow: hidden;padding: 0;position: absolute;width: 1px;}#sk-container-id-2 div.sk-estimator {font-family: monospace;background-color: #f0f8ff;border: 1px dotted black;border-radius: 0.25em;box-sizing: border-box;margin-bottom: 0.5em;}#sk-container-id-2 div.sk-estimator:hover {background-color: #d4ebff;}#sk-container-id-2 div.sk-parallel-item::after {content: \"\";width: 100%;border-bottom: 1px solid gray;flex-grow: 1;}#sk-container-id-2 div.sk-label:hover label.sk-toggleable__label {background-color: #d4ebff;}#sk-container-id-2 div.sk-serial::before {content: \"\";position: absolute;border-left: 1px solid gray;box-sizing: border-box;top: 0;bottom: 0;left: 50%;z-index: 0;}#sk-container-id-2 div.sk-serial {display: flex;flex-direction: column;align-items: center;background-color: white;padding-right: 0.2em;padding-left: 0.2em;position: relative;}#sk-container-id-2 div.sk-item {position: relative;z-index: 1;}#sk-container-id-2 div.sk-parallel {display: flex;align-items: stretch;justify-content: center;background-color: white;position: relative;}#sk-container-id-2 div.sk-item::before, #sk-container-id-2 div.sk-parallel-item::before {content: \"\";position: absolute;border-left: 1px solid gray;box-sizing: border-box;top: 0;bottom: 0;left: 50%;z-index: -1;}#sk-container-id-2 div.sk-parallel-item {display: flex;flex-direction: column;z-index: 1;position: relative;background-color: white;}#sk-container-id-2 div.sk-parallel-item:first-child::after {align-self: flex-end;width: 50%;}#sk-container-id-2 div.sk-parallel-item:last-child::after {align-self: flex-start;width: 50%;}#sk-container-id-2 div.sk-parallel-item:only-child::after {width: 0;}#sk-container-id-2 div.sk-dashed-wrapped {border: 1px dashed gray;margin: 0 0.4em 0.5em 0.4em;box-sizing: border-box;padding-bottom: 0.4em;background-color: white;}#sk-container-id-2 div.sk-label label {font-family: monospace;font-weight: bold;display: inline-block;line-height: 1.2em;}#sk-container-id-2 div.sk-label-container {text-align: center;}#sk-container-id-2 div.sk-container {/* jupyter's `normalize.less` sets `[hidden] { display: none; }` but bootstrap.min.css set `[hidden] { display: none !important; }` so we also need the `!important` here to be able to override the default hidden behavior on the sphinx rendered scikit-learn.org. See: https://github.com/scikit-learn/scikit-learn/issues/21755 */display: inline-block !important;position: relative;}#sk-container-id-2 div.sk-text-repr-fallback {display: none;}</style><div id=\"sk-container-id-2\" class=\"sk-top-container\"><div class=\"sk-text-repr-fallback\"><pre>RandomizedSearchCV(cv=5,\n",
              "                   estimator=XGBRegressor(base_score=None, booster=None,\n",
              "                                          callbacks=None,\n",
              "                                          colsample_bylevel=None,\n",
              "                                          colsample_bynode=None,\n",
              "                                          colsample_bytree=None, device=None,\n",
              "                                          early_stopping_rounds=None,\n",
              "                                          enable_categorical=False,\n",
              "                                          eval_metric=None, feature_types=None,\n",
              "                                          gamma=None, grow_policy=None,\n",
              "                                          importance_type=None,\n",
              "                                          interaction_constraints=None,\n",
              "                                          learning_rate=...\n",
              "                                          n_estimators=None, n_jobs=-1,\n",
              "                                          num_parallel_tree=None,\n",
              "                                          random_state=None, ...),\n",
              "                   n_iter=100, n_jobs=-1,\n",
              "                   param_distributions={&#x27;colsample_bytree&#x27;: [0.6, 0.8, 1.0],\n",
              "                                        &#x27;gamma&#x27;: [0.1, 0.5, 1, 1.5, 5],\n",
              "                                        &#x27;learning_rate&#x27;: [0.01, 0.02, 0.05, 0.1,\n",
              "                                                          0.25],\n",
              "                                        &#x27;max_depth&#x27;: [3, 4, 5, 10, 12],\n",
              "                                        &#x27;min_child_weight&#x27;: [1, 5, 7, 10],\n",
              "                                        &#x27;n_estimators&#x27;: [100, 200, 500, 750],\n",
              "                                        &#x27;subsample&#x27;: [0.6, 0.8, 1.0]},\n",
              "                   random_state=42, verbose=3)</pre><b>In a Jupyter environment, please rerun this cell to show the HTML representation or trust the notebook. <br />On GitHub, the HTML representation is unable to render, please try loading this page with nbviewer.org.</b></div><div class=\"sk-container\" hidden><div class=\"sk-item sk-dashed-wrapped\"><div class=\"sk-label-container\"><div class=\"sk-label sk-toggleable\"><input class=\"sk-toggleable__control sk-hidden--visually\" id=\"sk-estimator-id-2\" type=\"checkbox\" ><label for=\"sk-estimator-id-2\" class=\"sk-toggleable__label sk-toggleable__label-arrow\">RandomizedSearchCV</label><div class=\"sk-toggleable__content\"><pre>RandomizedSearchCV(cv=5,\n",
              "                   estimator=XGBRegressor(base_score=None, booster=None,\n",
              "                                          callbacks=None,\n",
              "                                          colsample_bylevel=None,\n",
              "                                          colsample_bynode=None,\n",
              "                                          colsample_bytree=None, device=None,\n",
              "                                          early_stopping_rounds=None,\n",
              "                                          enable_categorical=False,\n",
              "                                          eval_metric=None, feature_types=None,\n",
              "                                          gamma=None, grow_policy=None,\n",
              "                                          importance_type=None,\n",
              "                                          interaction_constraints=None,\n",
              "                                          learning_rate=...\n",
              "                                          n_estimators=None, n_jobs=-1,\n",
              "                                          num_parallel_tree=None,\n",
              "                                          random_state=None, ...),\n",
              "                   n_iter=100, n_jobs=-1,\n",
              "                   param_distributions={&#x27;colsample_bytree&#x27;: [0.6, 0.8, 1.0],\n",
              "                                        &#x27;gamma&#x27;: [0.1, 0.5, 1, 1.5, 5],\n",
              "                                        &#x27;learning_rate&#x27;: [0.01, 0.02, 0.05, 0.1,\n",
              "                                                          0.25],\n",
              "                                        &#x27;max_depth&#x27;: [3, 4, 5, 10, 12],\n",
              "                                        &#x27;min_child_weight&#x27;: [1, 5, 7, 10],\n",
              "                                        &#x27;n_estimators&#x27;: [100, 200, 500, 750],\n",
              "                                        &#x27;subsample&#x27;: [0.6, 0.8, 1.0]},\n",
              "                   random_state=42, verbose=3)</pre></div></div></div><div class=\"sk-parallel\"><div class=\"sk-parallel-item\"><div class=\"sk-item\"><div class=\"sk-label-container\"><div class=\"sk-label sk-toggleable\"><input class=\"sk-toggleable__control sk-hidden--visually\" id=\"sk-estimator-id-3\" type=\"checkbox\" ><label for=\"sk-estimator-id-3\" class=\"sk-toggleable__label sk-toggleable__label-arrow\">estimator: XGBRegressor</label><div class=\"sk-toggleable__content\"><pre>XGBRegressor(base_score=None, booster=None, callbacks=None,\n",
              "             colsample_bylevel=None, colsample_bynode=None,\n",
              "             colsample_bytree=None, device=None, early_stopping_rounds=None,\n",
              "             enable_categorical=False, eval_metric=None, feature_types=None,\n",
              "             gamma=None, grow_policy=None, importance_type=None,\n",
              "             interaction_constraints=None, learning_rate=None, max_bin=None,\n",
              "             max_cat_threshold=None, max_cat_to_onehot=None,\n",
              "             max_delta_step=None, max_depth=None, max_leaves=None,\n",
              "             min_child_weight=None, missing=nan, monotone_constraints=None,\n",
              "             multi_strategy=None, n_estimators=None, n_jobs=-1,\n",
              "             num_parallel_tree=None, random_state=None, ...)</pre></div></div></div><div class=\"sk-serial\"><div class=\"sk-item\"><div class=\"sk-estimator sk-toggleable\"><input class=\"sk-toggleable__control sk-hidden--visually\" id=\"sk-estimator-id-4\" type=\"checkbox\" ><label for=\"sk-estimator-id-4\" class=\"sk-toggleable__label sk-toggleable__label-arrow\">XGBRegressor</label><div class=\"sk-toggleable__content\"><pre>XGBRegressor(base_score=None, booster=None, callbacks=None,\n",
              "             colsample_bylevel=None, colsample_bynode=None,\n",
              "             colsample_bytree=None, device=None, early_stopping_rounds=None,\n",
              "             enable_categorical=False, eval_metric=None, feature_types=None,\n",
              "             gamma=None, grow_policy=None, importance_type=None,\n",
              "             interaction_constraints=None, learning_rate=None, max_bin=None,\n",
              "             max_cat_threshold=None, max_cat_to_onehot=None,\n",
              "             max_delta_step=None, max_depth=None, max_leaves=None,\n",
              "             min_child_weight=None, missing=nan, monotone_constraints=None,\n",
              "             multi_strategy=None, n_estimators=None, n_jobs=-1,\n",
              "             num_parallel_tree=None, random_state=None, ...)</pre></div></div></div></div></div></div></div></div></div></div>"
            ]
          },
          "metadata": {},
          "execution_count": 29
        }
      ],
      "source": [
        "# Melakukan RandomizedSearchCV untuk penyetelan hyperparameter\n",
        "params = {\n",
        "        'n_estimators' : [100, 200, 500, 750], # no of trees\n",
        "        'learning_rate' : [0.01, 0.02, 0.05, 0.1, 0.25],  # eta\n",
        "        'min_child_weight': [1, 5, 7, 10],\n",
        "        'gamma': [0.1, 0.5, 1, 1.5, 5],\n",
        "        'subsample': [0.6, 0.8, 1.0],\n",
        "        'colsample_bytree': [0.6, 0.8, 1.0],\n",
        "        'max_depth': [3, 4, 5, 10, 12]\n",
        "        }\n",
        "\n",
        "folds = 5\n",
        "param_comb = 100\n",
        "\n",
        "random_search = RandomizedSearchCV(xgb_reg, param_distributions=params, n_iter=param_comb, n_jobs=-1, cv=folds, verbose=3, random_state=42)\n",
        "\n",
        "# Fitting on the validation set\n",
        "random_search.fit(X_val, y_val)"
      ]
    },
    {
      "cell_type": "code",
      "execution_count": null,
      "id": "c0cc76f7",
      "metadata": {
        "execution": {
          "iopub.execute_input": "2023-03-12T16:13:10.424837Z",
          "iopub.status.busy": "2023-03-12T16:13:10.424311Z",
          "iopub.status.idle": "2023-03-12T16:13:10.431409Z",
          "shell.execute_reply": "2023-03-12T16:13:10.429885Z"
        },
        "papermill": {
          "duration": 0.031753,
          "end_time": "2023-03-12T16:13:10.434015",
          "exception": false,
          "start_time": "2023-03-12T16:13:10.402262",
          "status": "completed"
        },
        "tags": [],
        "colab": {
          "base_uri": "https://localhost:8080/"
        },
        "id": "c0cc76f7",
        "outputId": "ad916bc9-033f-4550-a894-b98f8656d2fa"
      },
      "outputs": [
        {
          "output_type": "stream",
          "name": "stdout",
          "text": [
            "We can get score of : 0.6959580002265253  using {'subsample': 1.0, 'n_estimators': 750, 'min_child_weight': 1, 'max_depth': 5, 'learning_rate': 0.25, 'gamma': 0.1, 'colsample_bytree': 1.0}\n"
          ]
        }
      ],
      "source": [
        "# Mencetak skor terbaik yang bisa kita peroleh dengan menggunakan parameter\n",
        "print('We can get score of :',random_search.best_score_,' using',random_search.best_params_)"
      ]
    },
    {
      "cell_type": "code",
      "execution_count": null,
      "id": "fa1ea6d7",
      "metadata": {
        "execution": {
          "iopub.execute_input": "2023-03-12T16:13:10.476586Z",
          "iopub.status.busy": "2023-03-12T16:13:10.475872Z",
          "iopub.status.idle": "2023-03-12T16:13:10.485525Z",
          "shell.execute_reply": "2023-03-12T16:13:10.484104Z"
        },
        "papermill": {
          "duration": 0.034964,
          "end_time": "2023-03-12T16:13:10.488956",
          "exception": false,
          "start_time": "2023-03-12T16:13:10.453992",
          "status": "completed"
        },
        "tags": [],
        "colab": {
          "base_uri": "https://localhost:8080/"
        },
        "id": "fa1ea6d7",
        "outputId": "168cfda3-4b76-4094-888f-5791a2a16821"
      },
      "outputs": [
        {
          "output_type": "execute_result",
          "data": {
            "text/plain": [
              "{'objective': 'reg:squarederror',\n",
              " 'base_score': None,\n",
              " 'booster': None,\n",
              " 'callbacks': None,\n",
              " 'colsample_bylevel': None,\n",
              " 'colsample_bynode': None,\n",
              " 'colsample_bytree': 0.6,\n",
              " 'device': None,\n",
              " 'early_stopping_rounds': None,\n",
              " 'enable_categorical': False,\n",
              " 'eval_metric': None,\n",
              " 'feature_types': None,\n",
              " 'gamma': 1,\n",
              " 'grow_policy': None,\n",
              " 'importance_type': None,\n",
              " 'interaction_constraints': None,\n",
              " 'learning_rate': 0.25,\n",
              " 'max_bin': None,\n",
              " 'max_cat_threshold': None,\n",
              " 'max_cat_to_onehot': None,\n",
              " 'max_delta_step': None,\n",
              " 'max_depth': 12,\n",
              " 'max_leaves': None,\n",
              " 'min_child_weight': 1,\n",
              " 'missing': nan,\n",
              " 'monotone_constraints': None,\n",
              " 'multi_strategy': None,\n",
              " 'n_estimators': 750,\n",
              " 'n_jobs': -1,\n",
              " 'num_parallel_tree': None,\n",
              " 'random_state': None,\n",
              " 'reg_alpha': None,\n",
              " 'reg_lambda': None,\n",
              " 'sampling_method': None,\n",
              " 'scale_pos_weight': None,\n",
              " 'subsample': 0.6,\n",
              " 'tree_method': None,\n",
              " 'validate_parameters': None,\n",
              " 'verbosity': None}"
            ]
          },
          "metadata": {},
          "execution_count": 31
        }
      ],
      "source": [
        "# Membuat model XGBRegression dengan hyperparameter yang dipilih\n",
        "xgb_reg_hpt = xgb.XGBRegressor(subsample=0.6, n_estimators=750, min_child_weight=1,max_depth=12,\n",
        "                               learning_rate=0.25, gamma=1, colsample_bytree=0.6, n_jobs = -1)\n",
        "xgb_reg_hpt.get_params()"
      ]
    },
    {
      "cell_type": "code",
      "execution_count": null,
      "id": "f37b3bb4",
      "metadata": {
        "execution": {
          "iopub.execute_input": "2023-03-12T16:13:13.968984Z",
          "iopub.status.busy": "2023-03-12T16:13:13.968601Z",
          "iopub.status.idle": "2023-03-12T16:13:13.973331Z",
          "shell.execute_reply": "2023-03-12T16:13:13.972299Z"
        },
        "papermill": {
          "duration": 0.029791,
          "end_time": "2023-03-12T16:13:13.976155",
          "exception": false,
          "start_time": "2023-03-12T16:13:13.946364",
          "status": "completed"
        },
        "tags": [],
        "colab": {
          "base_uri": "https://localhost:8080/"
        },
        "id": "f37b3bb4",
        "outputId": "db0bd810-13bf-4c03-a4ba-c9266406c9db"
      },
      "outputs": [
        {
          "output_type": "stream",
          "name": "stdout",
          "text": [
            "R2 score on Test Data is :  97.0\n"
          ]
        }
      ],
      "source": [
        "# Mencetak skor R2 pada kumpulan data pengujian\n",
        "print(\"R2 score on Test Data is : \",r2score)"
      ]
    },
    {
      "cell_type": "code",
      "execution_count": null,
      "id": "219b04e8",
      "metadata": {
        "execution": {
          "iopub.execute_input": "2023-03-12T16:13:14.019261Z",
          "iopub.status.busy": "2023-03-12T16:13:14.018587Z",
          "iopub.status.idle": "2023-03-12T16:13:14.024710Z",
          "shell.execute_reply": "2023-03-12T16:13:14.023563Z"
        },
        "papermill": {
          "duration": 0.031002,
          "end_time": "2023-03-12T16:13:14.027540",
          "exception": false,
          "start_time": "2023-03-12T16:13:13.996538",
          "status": "completed"
        },
        "tags": [],
        "colab": {
          "base_uri": "https://localhost:8080/"
        },
        "id": "219b04e8",
        "outputId": "b07ea0f9-9940-48f5-b017-9c8cfd0baf02"
      },
      "outputs": [
        {
          "output_type": "stream",
          "name": "stdout",
          "text": [
            "151667.2\n"
          ]
        }
      ],
      "source": [
        "# Menghitung Mean Squared Error dan Root Mean Squared Error dari set pengujian\n",
        "mse = mean_squared_error(y_test, y_pred_test_hpt)\n",
        "rmse = round(math.sqrt(mse),2)\n",
        "print(rmse)"
      ]
    },
    {
      "cell_type": "markdown",
      "id": "94a387ea",
      "metadata": {
        "papermill": {
          "duration": 0.020025,
          "end_time": "2023-03-12T16:13:14.068173",
          "exception": false,
          "start_time": "2023-03-12T16:13:14.048148",
          "status": "completed"
        },
        "tags": [],
        "id": "94a387ea"
      },
      "source": [
        "# Prediction and Model evaluation"
      ]
    },
    {
      "cell_type": "code",
      "execution_count": null,
      "id": "c1946c6d",
      "metadata": {
        "execution": {
          "iopub.execute_input": "2023-03-12T16:13:14.111086Z",
          "iopub.status.busy": "2023-03-12T16:13:14.110614Z",
          "iopub.status.idle": "2023-03-12T16:13:14.148041Z",
          "shell.execute_reply": "2023-03-12T16:13:14.146658Z"
        },
        "papermill": {
          "duration": 0.062179,
          "end_time": "2023-03-12T16:13:14.150563",
          "exception": false,
          "start_time": "2023-03-12T16:13:14.088384",
          "status": "completed"
        },
        "tags": [],
        "colab": {
          "base_uri": "https://localhost:8080/"
        },
        "id": "c1946c6d",
        "outputId": "8a1bfc36-a711-4487-a331-1145b2e0e9ca"
      },
      "outputs": [
        {
          "output_type": "stream",
          "name": "stdout",
          "text": [
            "R2 score on Training data :  100.0\n",
            "R2 score on Test data :  97.0\n"
          ]
        }
      ],
      "source": [
        "# Calculating R2 score\n",
        "y_train_pred = xgb_reg_hpt.predict(X_train)\n",
        "y_test_pred = xgb_reg_hpt.predict(X_test)\n",
        "\n",
        "r2_train_lr = r2_score(y_train, y_train_pred)\n",
        "print(\"R2 score on Training data : \",round(r2_train_lr,2)*100)\n",
        "\n",
        "r2_test_lr = r2_score(y_test, y_test_pred)\n",
        "print(\"R2 score on Test data : \",round(r2_test_lr,2)*100)"
      ]
    },
    {
      "cell_type": "code",
      "execution_count": null,
      "id": "5dbc5269",
      "metadata": {
        "execution": {
          "iopub.execute_input": "2023-03-12T16:13:14.195788Z",
          "iopub.status.busy": "2023-03-12T16:13:14.194546Z",
          "iopub.status.idle": "2023-03-12T16:13:14.458398Z",
          "shell.execute_reply": "2023-03-12T16:13:14.457095Z"
        },
        "papermill": {
          "duration": 0.288666,
          "end_time": "2023-03-12T16:13:14.461265",
          "exception": false,
          "start_time": "2023-03-12T16:13:14.172599",
          "status": "completed"
        },
        "tags": [],
        "colab": {
          "base_uri": "https://localhost:8080/",
          "height": 514
        },
        "id": "5dbc5269",
        "outputId": "3dd5b760-663c-4887-c041-a547cb0759ad"
      },
      "outputs": [
        {
          "output_type": "execute_result",
          "data": {
            "text/plain": [
              "<matplotlib.collections.PathCollection at 0x799837ccbf70>"
            ]
          },
          "metadata": {},
          "execution_count": 37
        },
        {
          "output_type": "display_data",
          "data": {
            "text/plain": [
              "<Figure size 640x480 with 1 Axes>"
            ],
            "image/png": "[encoded data removed]"
          },
          "metadata": {}
        }
      ],
      "source": [
        "# Merencanakan plot sebar dari nilai aktual dan prediksi dari set pengujian\n",
        "fig = plt.figure()\n",
        "fig.suptitle('y_test vs y_test_pred',fontsize=20)\n",
        "plt.scatter(y_test,y_test_pred)"
      ]
    },
    {
      "cell_type": "code",
      "execution_count": null,
      "id": "491a4022",
      "metadata": {
        "execution": {
          "iopub.execute_input": "2023-03-12T16:13:14.621051Z",
          "iopub.status.busy": "2023-03-12T16:13:14.620416Z",
          "iopub.status.idle": "2023-03-12T16:13:14.631165Z",
          "shell.execute_reply": "2023-03-12T16:13:14.630225Z"
        },
        "papermill": {
          "duration": 0.035617,
          "end_time": "2023-03-12T16:13:14.633735",
          "exception": false,
          "start_time": "2023-03-12T16:13:14.598118",
          "status": "completed"
        },
        "tags": [],
        "colab": {
          "base_uri": "https://localhost:8080/",
          "height": 269
        },
        "id": "491a4022",
        "outputId": "7b306bd9-0235-429e-bfd0-e7d2b8282ccb"
      },
      "outputs": [
        {
          "output_type": "execute_result",
          "data": {
            "text/plain": [
              "                    Feaure      Coef\n",
              "0               Horsepower  0.419137\n",
              "1           Torque (lb-ft)  0.346437\n",
              "2  0-60 MPH Time (seconds)  0.066026\n",
              "3                Car Model  0.065530\n",
              "4                 Car Make  0.048333\n",
              "5          Engine Size Cat  0.037700\n",
              "6                  Car Age  0.016838"
            ],
            "text/html": [
              "\n",
              "  <div id=\"df-25d18bbd-a58e-43f6-91ec-2878462f4a13\" class=\"colab-df-container\">\n",
              "    <div>\n",
              "<style scoped>\n",
              "    .dataframe tbody tr th:only-of-type {\n",
              "        vertical-align: middle;\n",
              "    }\n",
              "\n",
              "    .dataframe tbody tr th {\n",
              "        vertical-align: top;\n",
              "    }\n",
              "\n",
              "    .dataframe thead th {\n",
              "        text-align: right;\n",
              "    }\n",
              "</style>\n",
              "<table border=\"1\" class=\"dataframe\">\n",
              "  <thead>\n",
              "    <tr style=\"text-align: right;\">\n",
              "      <th></th>\n",
              "      <th>Feaure</th>\n",
              "      <th>Coef</th>\n",
              "    </tr>\n",
              "  </thead>\n",
              "  <tbody>\n",
              "    <tr>\n",
              "      <th>0</th>\n",
              "      <td>Horsepower</td>\n",
              "      <td>0.419137</td>\n",
              "    </tr>\n",
              "    <tr>\n",
              "      <th>1</th>\n",
              "      <td>Torque (lb-ft)</td>\n",
              "      <td>0.346437</td>\n",
              "    </tr>\n",
              "    <tr>\n",
              "      <th>2</th>\n",
              "      <td>0-60 MPH Time (seconds)</td>\n",
              "      <td>0.066026</td>\n",
              "    </tr>\n",
              "    <tr>\n",
              "      <th>3</th>\n",
              "      <td>Car Model</td>\n",
              "      <td>0.065530</td>\n",
              "    </tr>\n",
              "    <tr>\n",
              "      <th>4</th>\n",
              "      <td>Car Make</td>\n",
              "      <td>0.048333</td>\n",
              "    </tr>\n",
              "    <tr>\n",
              "      <th>5</th>\n",
              "      <td>Engine Size Cat</td>\n",
              "      <td>0.037700</td>\n",
              "    </tr>\n",
              "    <tr>\n",
              "      <th>6</th>\n",
              "      <td>Car Age</td>\n",
              "      <td>0.016838</td>\n",
              "    </tr>\n",
              "  </tbody>\n",
              "</table>\n",
              "</div>\n",
              "    <div class=\"colab-df-buttons\">\n",
              "\n",
              "  <div class=\"colab-df-container\">\n",
              "    <button class=\"colab-df-convert\" onclick=\"convertToInteractive('df-25d18bbd-a58e-43f6-91ec-2878462f4a13')\"\n",
              "            title=\"Convert this dataframe to an interactive table.\"\n",
              "            style=\"display:none;\">\n",
              "\n",
              "  <svg xmlns=\"http://www.w3.org/2000/svg\" height=\"24px\" viewBox=\"0 -960 960 960\">\n",
              "    <path d=\"M120-120v-720h720v720H120Zm60-500h600v-160H180v160Zm220 220h160v-160H400v160Zm0 220h160v-160H400v160ZM180-400h160v-160H180v160Zm440 0h160v-160H620v160ZM180-180h160v-160H180v160Zm440 0h160v-160H620v160Z\"/>\n",
              "  </svg>\n",
              "    </button>\n",
              "\n",
              "  <style>\n",
              "    .colab-df-container {\n",
              "      display:flex;\n",
              "      gap: 12px;\n",
              "    }\n",
              "\n",
              "    .colab-df-convert {\n",
              "      background-color: #E8F0FE;\n",
              "      border: none;\n",
              "      border-radius: 50%;\n",
              "      cursor: pointer;\n",
              "      display: none;\n",
              "      fill: #1967D2;\n",
              "      height: 32px;\n",
              "      padding: 0 0 0 0;\n",
              "      width: 32px;\n",
              "    }\n",
              "\n",
              "    .colab-df-convert:hover {\n",
              "      background-color: #E2EBFA;\n",
              "      box-shadow: 0px 1px 2px rgba(60, 64, 67, 0.3), 0px 1px 3px 1px rgba(60, 64, 67, 0.15);\n",
              "      fill: #174EA6;\n",
              "    }\n",
              "\n",
              "    .colab-df-buttons div {\n",
              "      margin-bottom: 4px;\n",
              "    }\n",
              "\n",
              "    [theme=dark] .colab-df-convert {\n",
              "      background-color: #3B4455;\n",
              "      fill: #D2E3FC;\n",
              "    }\n",
              "\n",
              "    [theme=dark] .colab-df-convert:hover {\n",
              "      background-color: #434B5C;\n",
              "      box-shadow: 0px 1px 3px 1px rgba(0, 0, 0, 0.15);\n",
              "      filter: drop-shadow(0px 1px 2px rgba(0, 0, 0, 0.3));\n",
              "      fill: #FFFFFF;\n",
              "    }\n",
              "  </style>\n",
              "\n",
              "    <script>\n",
              "      const buttonEl =\n",
              "        document.querySelector('#df-25d18bbd-a58e-43f6-91ec-2878462f4a13 button.colab-df-convert');\n",
              "      buttonEl.style.display =\n",
              "        google.colab.kernel.accessAllowed ? 'block' : 'none';\n",
              "\n",
              "      async function convertToInteractive(key) {\n",
              "        const element = document.querySelector('#df-25d18bbd-a58e-43f6-91ec-2878462f4a13');\n",
              "        const dataTable =\n",
              "          await google.colab.kernel.invokeFunction('convertToInteractive',\n",
              "                                                    [key], {});\n",
              "        if (!dataTable) return;\n",
              "\n",
              "        const docLinkHtml = 'Like what you see? Visit the ' +\n",
              "          '<a target=\"_blank\" href=https://colab.research.google.com/notebooks/data_table.ipynb>data table notebook</a>'\n",
              "          + ' to learn more about interactive tables.';\n",
              "        element.innerHTML = '';\n",
              "        dataTable['output_type'] = 'display_data';\n",
              "        await google.colab.output.renderOutput(dataTable, element);\n",
              "        const docLink = document.createElement('div');\n",
              "        docLink.innerHTML = docLinkHtml;\n",
              "        element.appendChild(docLink);\n",
              "      }\n",
              "    </script>\n",
              "  </div>\n",
              "\n",
              "\n",
              "<div id=\"df-de282d7b-b42d-4718-85c0-576c4da7e627\">\n",
              "  <button class=\"colab-df-quickchart\" onclick=\"quickchart('df-de282d7b-b42d-4718-85c0-576c4da7e627')\"\n",
              "            title=\"Suggest charts\"\n",
              "            style=\"display:none;\">\n",
              "\n",
              "<svg xmlns=\"http://www.w3.org/2000/svg\" height=\"24px\"viewBox=\"0 0 24 24\"\n",
              "     width=\"24px\">\n",
              "    <g>\n",
              "        <path d=\"M19 3H5c-1.1 0-2 .9-2 2v14c0 1.1.9 2 2 2h14c1.1 0 2-.9 2-2V5c0-1.1-.9-2-2-2zM9 17H7v-7h2v7zm4 0h-2V7h2v10zm4 0h-2v-4h2v4z\"/>\n",
              "    </g>\n",
              "</svg>\n",
              "  </button>\n",
              "\n",
              "<style>\n",
              "  .colab-df-quickchart {\n",
              "      --bg-color: #E8F0FE;\n",
              "      --fill-color: #1967D2;\n",
              "      --hover-bg-color: #E2EBFA;\n",
              "      --hover-fill-color: #174EA6;\n",
              "      --disabled-fill-color: #AAA;\n",
              "      --disabled-bg-color: #DDD;\n",
              "  }\n",
              "\n",
              "  [theme=dark] .colab-df-quickchart {\n",
              "      --bg-color: #3B4455;\n",
              "      --fill-color: #D2E3FC;\n",
              "      --hover-bg-color: #434B5C;\n",
              "      --hover-fill-color: #FFFFFF;\n",
              "      --disabled-bg-color: #3B4455;\n",
              "      --disabled-fill-color: #666;\n",
              "  }\n",
              "\n",
              "  .colab-df-quickchart {\n",
              "    background-color: var(--bg-color);\n",
              "    border: none;\n",
              "    border-radius: 50%;\n",
              "    cursor: pointer;\n",
              "    display: none;\n",
              "    fill: var(--fill-color);\n",
              "    height: 32px;\n",
              "    padding: 0;\n",
              "    width: 32px;\n",
              "  }\n",
              "\n",
              "  .colab-df-quickchart:hover {\n",
              "    background-color: var(--hover-bg-color);\n",
              "    box-shadow: 0 1px 2px rgba(60, 64, 67, 0.3), 0 1px 3px 1px rgba(60, 64, 67, 0.15);\n",
              "    fill: var(--button-hover-fill-color);\n",
              "  }\n",
              "\n",
              "  .colab-df-quickchart-complete:disabled,\n",
              "  .colab-df-quickchart-complete:disabled:hover {\n",
              "    background-color: var(--disabled-bg-color);\n",
              "    fill: var(--disabled-fill-color);\n",
              "    box-shadow: none;\n",
              "  }\n",
              "\n",
              "  .colab-df-spinner {\n",
              "    border: 2px solid var(--fill-color);\n",
              "    border-color: transparent;\n",
              "    border-bottom-color: var(--fill-color);\n",
              "    animation:\n",
              "      spin 1s steps(1) infinite;\n",
              "  }\n",
              "\n",
              "  @keyframes spin {\n",
              "    0% {\n",
              "      border-color: transparent;\n",
              "      border-bottom-color: var(--fill-color);\n",
              "      border-left-color: var(--fill-color);\n",
              "    }\n",
              "    20% {\n",
              "      border-color: transparent;\n",
              "      border-left-color: var(--fill-color);\n",
              "      border-top-color: var(--fill-color);\n",
              "    }\n",
              "    30% {\n",
              "      border-color: transparent;\n",
              "      border-left-color: var(--fill-color);\n",
              "      border-top-color: var(--fill-color);\n",
              "      border-right-color: var(--fill-color);\n",
              "    }\n",
              "    40% {\n",
              "      border-color: transparent;\n",
              "      border-right-color: var(--fill-color);\n",
              "      border-top-color: var(--fill-color);\n",
              "    }\n",
              "    60% {\n",
              "      border-color: transparent;\n",
              "      border-right-color: var(--fill-color);\n",
              "    }\n",
              "    80% {\n",
              "      border-color: transparent;\n",
              "      border-right-color: var(--fill-color);\n",
              "      border-bottom-color: var(--fill-color);\n",
              "    }\n",
              "    90% {\n",
              "      border-color: transparent;\n",
              "      border-bottom-color: var(--fill-color);\n",
              "    }\n",
              "  }\n",
              "</style>\n",
              "\n",
              "  <script>\n",
              "    async function quickchart(key) {\n",
              "      const quickchartButtonEl =\n",
              "        document.querySelector('#' + key + ' button');\n",
              "      quickchartButtonEl.disabled = true;  // To prevent multiple clicks.\n",
              "      quickchartButtonEl.classList.add('colab-df-spinner');\n",
              "      try {\n",
              "        const charts = await google.colab.kernel.invokeFunction(\n",
              "            'suggestCharts', [key], {});\n",
              "      } catch (error) {\n",
              "        console.error('Error during call to suggestCharts:', error);\n",
              "      }\n",
              "      quickchartButtonEl.classList.remove('colab-df-spinner');\n",
              "      quickchartButtonEl.classList.add('colab-df-quickchart-complete');\n",
              "    }\n",
              "    (() => {\n",
              "      let quickchartButtonEl =\n",
              "        document.querySelector('#df-de282d7b-b42d-4718-85c0-576c4da7e627 button');\n",
              "      quickchartButtonEl.style.display =\n",
              "        google.colab.kernel.accessAllowed ? 'block' : 'none';\n",
              "    })();\n",
              "  </script>\n",
              "</div>\n",
              "    </div>\n",
              "  </div>\n"
            ]
          },
          "metadata": {},
          "execution_count": 40
        }
      ],
      "source": [
        "# Mengurutkan kerangka data yang dibuat yang berisi nama fitur dan nilai koefisien yang sesuai dalam urutan menurun\n",
        "# untuk mendapatkan koefisien tertinggi\n",
        "lm_model_df.sort_values(by='Coef',ascending=False).reset_index(drop=True)"
      ]
    }
  ],
  "metadata": {
    "kernelspec": {
      "display_name": "Python 3",
      "language": "python",
      "name": "python3"
    },
    "language_info": {
      "codemirror_mode": {
        "name": "ipython",
        "version": 3
      },
      "file_extension": ".py",
      "mimetype": "text/x-python",
      "name": "python",
      "nbconvert_exporter": "python",
      "pygments_lexer": "ipython3",
      "version": "3.7.12"
    },
    "papermill": {
      "default_parameters": {},
      "duration": 232.867568,
      "end_time": "2023-03-12T16:13:17.318666",
      "environment_variables": {},
      "exception": null,
      "input_path": "__notebook__.ipynb",
      "output_path": "__notebook__.ipynb",
      "parameters": {},
      "start_time": "2023-03-12T16:09:24.451098",
      "version": "2.4.0"
    },
    "colab": {
      "provenance": []
    }
  },
  "nbformat": 4,
  "nbformat_minor": 5
}